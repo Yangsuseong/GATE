{
 "cells": [
  {
   "cell_type": "markdown",
   "metadata": {},
   "source": [
    "# gate_preprocessing 을 검증하기 위한 프로그램"
   ]
  },
  {
   "cell_type": "code",
   "execution_count": 1,
   "metadata": {},
   "outputs": [],
   "source": [
    "# 각 크리스탈의 중심값을 얻어내기위한 함수 (3x3)\n",
    "# find_xyz_center(디텍터 갯수, 크리스탈의 x축 갯수, 크리스탈의 y축 갯수, 크리스탈의 z축 갯수, 원점으로부터의 거리, 크리스탈의 x축 길이, 크리스탈의 y축 길이, 크리스탈의 z축 길이)\n",
    "def YSS_find_xyz_center(detector_amount, crystal_x_amount, crystal_y_amount, crystal_z_amount, r, x_len, y_len, z_len,):\n",
    "    crystal_x_num = int((int(crystal_x_amount)/2))\n",
    "    \n",
    "    \n",
    "    result = []\n",
    "    for i in range(int(detector_amount)):\n",
    "        detector = []\n",
    "        crystal = []\n",
    "        crystal_z_num = int((int(crystal_z_amount)/2))\n",
    "        for j in range(int(crystal_z_amount)):\n",
    "            \n",
    "            crystal_y_num = int((int(crystal_y_amount)/2))\n",
    "            for k in range(int(crystal_y_amount)):\n",
    "                crystal.append([r + (x_len/2), (y_len * crystal_y_num), (z_len * crystal_z_num)])\n",
    "                crystal_y_num = crystal_y_num - 1\n",
    "            crystal_z_num = crystal_z_num - 1\n",
    "        detector.append(crystal)\n",
    "        result.append(detector)\n",
    "    result = list(itertools.chain(*result))\n",
    "    detector_rot = result\n",
    "    result = []\n",
    "    \n",
    "    detector_num = 0\n",
    "    for i in range(int(detector_amount)):\n",
    "        det_rot = []\n",
    "        for j in range(len(detector_rot[i])):\n",
    "            det_rot.append([format((detector_rot[i][j][0]*math.cos(((360/detector_amount)*detector_num)*math.pi/180)) - (detector_rot[i][j][1]*math.sin(((360/detector_amount)*detector_num)*math.pi/180)),\".3f\"),\\\n",
    "                           format((detector_rot[i][j][0]*math.sin(((360/detector_amount)*detector_num)*math.pi/180)) + (detector_rot[i][j][1]*math.cos(((360/detector_amount)*detector_num)*math.pi/180)),\".3f\"),\\\n",
    "                           format(detector_rot[i][j][2],\".3f\")])\n",
    "        detector_num += 1\n",
    "        result.append(det_rot)\n",
    "    \n",
    "            \n",
    "    \n",
    "    return result"
   ]
  },
  {
   "cell_type": "code",
   "execution_count": 2,
   "metadata": {},
   "outputs": [],
   "source": [
    "# 각 디텍터의 중심값을 받아와 크리스탈의 모서리의 좌표를 구하는 함수\n",
    "def find_crystal_edge(x, y, z, x_len, y_len, z_len):\n",
    "    x = float(x)\n",
    "    y = float(y)\n",
    "    z = float(z)\n",
    "    x_len = float(x_len)\n",
    "    y_len = float(y_len)\n",
    "    z_len = float(z_len)\n",
    "    edge_a1 = [x-(x_len/2), y+(y_len/2), z-(z_len/2)]\n",
    "    edge_b1 = [x-(x_len/2), y+(y_len/2), z+(z_len/2)]\n",
    "    edge_c1 = [x-(x_len/2), y-(y_len/2), z-(z_len/2)]\n",
    "    edge_d1 = [x-(x_len/2), y-(y_len/2), z+(z_len/2)]\n",
    "    edge_a2 = [x+(x_len/2), y+(y_len/2), z-(z_len/2)]\n",
    "    edge_b2 = [x+(x_len/2), y+(y_len/2), z+(z_len/2)]\n",
    "    edge_c2 = [x+(x_len/2), y-(y_len/2), z-(z_len/2)]\n",
    "    edge_d2 = [x+(x_len/2), y-(y_len/2), z+(z_len/2)]\n",
    "    \n",
    "    \n",
    "    crystal_edge = [edge_a1, edge_b1, edge_c1, edge_d1, edge_a2, edge_b2, edge_c2, edge_d2]\n",
    "    #print(crystal_edge)\n",
    "    return crystal_edge"
   ]
  },
  {
   "cell_type": "code",
   "execution_count": 3,
   "metadata": {},
   "outputs": [],
   "source": [
    "# 데이터 범위를 디텍터 갯수에 맞게 미리 나누어내는 방법\n",
    "# find_detector(원본 데이터, 모서리값, 디텍터 갯수)\n",
    "\n",
    "\n",
    "def find_detector(rotate_crystal_edge_chunks):\n",
    "    for i in range(len(rotate_crystal_edge_chunks)):\n",
    "        x_max = -1000\n",
    "        x_min = 1000\n",
    "        y_max = -1000\n",
    "        y_min = 1000\n",
    "        z_max = -1000\n",
    "        z_min = 1000\n",
    "        for j in range(len(rotate_crystal_edge_chunks[i])):\n",
    "            if(float(rotate_crystal_edge_chunks[i][j][0]) > float(x_max)):\n",
    "                x_max = rotate_crystal_edge_chunks[i][j][0]\n",
    "            if(float(rotate_crystal_edge_chunks[i][j][0]) < float(x_min)):\n",
    "                x_min = rotate_crystal_edge_chunks[i][j][0]\n",
    "            if(float(rotate_crystal_edge_chunks[i][j][1]) > float(y_max)):\n",
    "                y_max = rotate_crystal_edge_chunks[i][j][1]\n",
    "            if(float(rotate_crystal_edge_chunks[i][j][1]) < float(y_min)):\n",
    "                y_min = rotate_crystal_edge_chunks[i][j][1]\n",
    "            if(float(rotate_crystal_edge_chunks[i][j][2]) > float(z_max)):\n",
    "                z_max = rotate_crystal_edge_chunks[i][j][2]\n",
    "            if(float(rotate_crystal_edge_chunks[i][j][2]) < float(z_min)):\n",
    "                z_min = rotate_crystal_edge_chunks[i][j][2]\n",
    "        print(str(i)+\" : \" + str(x_min) + \" < x < \" + str(x_max) + \", \" + str(y_min) + \" < y < \" + str(y_max)\\\n",
    "             + \", \" + str(z_min) + \" < z < \" + str(z_max))\n",
    "        "
   ]
  },
  {
   "cell_type": "code",
   "execution_count": null,
   "metadata": {},
   "outputs": [],
   "source": []
  },
  {
   "cell_type": "code",
   "execution_count": null,
   "metadata": {},
   "outputs": [],
   "source": []
  },
  {
   "cell_type": "code",
   "execution_count": null,
   "metadata": {},
   "outputs": [],
   "source": []
  },
  {
   "cell_type": "code",
   "execution_count": null,
   "metadata": {},
   "outputs": [],
   "source": []
  },
  {
   "cell_type": "markdown",
   "metadata": {},
   "source": [
    "# 검증 시작"
   ]
  },
  {
   "cell_type": "code",
   "execution_count": 4,
   "metadata": {},
   "outputs": [],
   "source": [
    "import os, glob, csv, codecs\n",
    "import shutil\n",
    "import re\n",
    "import itertools\n",
    "import math"
   ]
  },
  {
   "cell_type": "markdown",
   "metadata": {},
   "source": [
    "## 실제 데이터의 첫번째 coincidence 좌표 사용"
   ]
  },
  {
   "cell_type": "code",
   "execution_count": 5,
   "metadata": {},
   "outputs": [],
   "source": [
    "# 실제 데이터의 1번째 coincidence 좌표\n",
    "test_data = [[-7.885, 45.56, -0.002718], [8.186, -45.07, -0.4635]]"
   ]
  },
  {
   "cell_type": "code",
   "execution_count": 6,
   "metadata": {},
   "outputs": [
    {
     "name": "stdout",
     "output_type": "stream",
     "text": [
      "---------test_data_single1 이 회전된 좌표---------\n",
      "[43.39861739641902, -15.951389691159726, -0.002718]\n",
      "---------------------------------------------\n"
     ]
    }
   ],
   "source": [
    "# test_data_single1 은 2번 디텍터 헤드에 위치해 있기 때문에 회전 각도를 120도로 설정\n",
    "\n",
    "# 먼저 데이터를 0번 디텍터 위치로 회전변환을 해야하므로 각도는 360-120 deg 하여 이동시킴\n",
    "rotate_test_data_single1 = ([(test_data[0][0]*math.cos((360-120)*math.pi/180))-(test_data[0][1]*math.sin((360-120)*math.pi/180)),\\\n",
    "                    (test_data[0][0]*math.sin((360-120)*math.pi/180))+(test_data[0][1]*math.cos((360-120)*math.pi/180)),\\\n",
    "                    test_data[0][2]])\n",
    "print(\"---------test_data_single1 이 회전된 좌표---------\")\n",
    "print(rotate_test_data_single1)\n",
    "print(\"---------------------------------------------\")\n",
    "\n",
    "# 이제 0번 디텍터에서 몇번 크리스탈에 속하는지 알아내야 한다.\n"
   ]
  },
  {
   "cell_type": "code",
   "execution_count": 7,
   "metadata": {},
   "outputs": [
    {
     "name": "stdout",
     "output_type": "stream",
     "text": [
      "[['45.500', '11.000', '13.000'], ['45.500', '0.000', '13.000'], ['45.500', '-11.000', '13.000'], ['45.500', '11.000', '0.000'], ['45.500', '0.000', '0.000'], ['45.500', '-11.000', '0.000'], ['45.500', '11.000', '-13.000'], ['45.500', '0.000', '-13.000'], ['45.500', '-11.000', '-13.000']]\n"
     ]
    }
   ],
   "source": [
    "# 각 크리스탈의 중심값 찾기 (detector_num, crystal_x_amount, crystal_y_amount, crystal_z_amount, r길이, x_len, y_len, z_len)\n",
    "\n",
    "crystal_location = YSS_find_xyz_center(6, 1, 3, 3, 44, 3, 11, 13)\n",
    "\n",
    "print(crystal_location[0])"
   ]
  },
  {
   "cell_type": "code",
   "execution_count": 8,
   "metadata": {},
   "outputs": [],
   "source": [
    "# 각 크리스탈의 모서리 값 구하기\n",
    "origin_crystal_edge = []\n",
    "for j in range(len(crystal_location[0])):\n",
    "    # find_crystal_edge(크리스탈 중점 x좌표, 크리스탈 중점 y좌표, 크리스탈 중점 z좌표, 디텍터의 x_len, y_len z_len)\n",
    "    origin_crystal_edge.append(find_crystal_edge(crystal_location[0][j][0],\\\n",
    "                          crystal_location[0][j][1],\\\n",
    "                          crystal_location[0][j][2],\\\n",
    "                          3, 11, 13))  \n",
    "    \n",
    "#print(origin_crystal_edge[8])"
   ]
  },
  {
   "cell_type": "markdown",
   "metadata": {},
   "source": [
    "### 0번 디텍터의 각 크리스탈 범위"
   ]
  },
  {
   "cell_type": "code",
   "execution_count": 9,
   "metadata": {},
   "outputs": [
    {
     "name": "stdout",
     "output_type": "stream",
     "text": [
      "---------test_data_single1 이 회전된 좌표---------\n",
      "[43.39861739641902, -15.951389691159726, -0.002718]\n",
      "---------------------------------------------\n",
      "0 : 44.0 < x < 47.0, 5.5 < y < 16.5, 6.5 < z < 19.5\n",
      "1 : 44.0 < x < 47.0, -5.5 < y < 5.5, 6.5 < z < 19.5\n",
      "2 : 44.0 < x < 47.0, -16.5 < y < -5.5, 6.5 < z < 19.5\n",
      "3 : 44.0 < x < 47.0, 5.5 < y < 16.5, -6.5 < z < 6.5\n",
      "4 : 44.0 < x < 47.0, -5.5 < y < 5.5, -6.5 < z < 6.5\n",
      "5 : 44.0 < x < 47.0, -16.5 < y < -5.5, -6.5 < z < 6.5\n",
      "6 : 44.0 < x < 47.0, 5.5 < y < 16.5, -19.5 < z < -6.5\n",
      "7 : 44.0 < x < 47.0, -5.5 < y < 5.5, -19.5 < z < -6.5\n",
      "8 : 44.0 < x < 47.0, -16.5 < y < -5.5, -19.5 < z < -6.5\n"
     ]
    }
   ],
   "source": [
    "print(\"---------test_data_single1 이 회전된 좌표---------\")\n",
    "print(rotate_test_data_single1)\n",
    "print(\"---------------------------------------------\")\n",
    "detector_number = find_detector(origin_crystal_edge)"
   ]
  },
  {
   "cell_type": "markdown",
   "metadata": {},
   "source": [
    "### single1 의 데이터는 5번 크리스탈에 해당하는것을 확인\n",
    "    따라서 rotate_test_data_single1 값을 0번디텍터 헤드의 5번 크리스탈 중심값으로 변경"
   ]
  },
  {
   "cell_type": "code",
   "execution_count": 10,
   "metadata": {},
   "outputs": [
    {
     "name": "stdout",
     "output_type": "stream",
     "text": [
      "['45.500', '-11.000', '0.000']\n"
     ]
    }
   ],
   "source": [
    "rotate_test_data_single1 = crystal_location[0][5]\n",
    "print(rotate_test_data_single1)"
   ]
  },
  {
   "cell_type": "markdown",
   "metadata": {},
   "source": [
    "## 크리스탈 위치로 변경했으니 다시 원위치로 회전변환"
   ]
  },
  {
   "cell_type": "code",
   "execution_count": 11,
   "metadata": {},
   "outputs": [
    {
     "name": "stdout",
     "output_type": "stream",
     "text": [
      "---------test_data_single1 의 초기 좌표---------\n",
      "[-7.885, 45.56, -0.002718]\n",
      "---------------------------------------------\n",
      "---------test_data_single1 의 최종 좌표---------\n",
      "[-13.223720558371163, 44.904155872191964, 0.0]\n",
      "---------------------------------------------\n"
     ]
    }
   ],
   "source": [
    "# test_data_single1 은 2번 디텍터 헤드에 위치해 있기 때문에 회전 각도를 120도로 설정\n",
    "\n",
    "final_test_data_single1 = ([(float(rotate_test_data_single1[0])*math.cos((120)*math.pi/180))-(float(rotate_test_data_single1[1])*math.sin((120)*math.pi/180)),\\\n",
    "                    (float(rotate_test_data_single1[0])*math.sin((120)*math.pi/180))+(float(rotate_test_data_single1[1])*math.cos((120)*math.pi/180)),\\\n",
    "                    float(rotate_test_data_single1[2])])\n",
    "print(\"---------test_data_single1 의 초기 좌표---------\")\n",
    "print(test_data[0])\n",
    "print(\"---------------------------------------------\")\n",
    "print(\"---------test_data_single1 의 최종 좌표---------\")\n",
    "print(final_test_data_single1)\n",
    "print(\"---------------------------------------------\")\n",
    "\n",
    "# 이제 0번 디텍터에서 몇번 크리스탈에 속하는지 알아내야 한다.\n"
   ]
  },
  {
   "cell_type": "markdown",
   "metadata": {},
   "source": [
    "## single2 에도 같은 작업을 실행"
   ]
  },
  {
   "cell_type": "code",
   "execution_count": 12,
   "metadata": {},
   "outputs": [
    {
     "data": {
      "text/plain": [
       "[8.186, -45.07, -0.4635]"
      ]
     },
     "execution_count": 12,
     "metadata": {},
     "output_type": "execute_result"
    }
   ],
   "source": [
    "# single2 의 최초 데이터\n",
    "test_data[1]"
   ]
  },
  {
   "cell_type": "code",
   "execution_count": 13,
   "metadata": {},
   "outputs": [
    {
     "name": "stdout",
     "output_type": "stream",
     "text": [
      "---------test_data_single2 이 회전된 좌표---------\n",
      "[43.12476494856465, -15.445716044620589, -0.4635]\n",
      "---------------------------------------------\n"
     ]
    }
   ],
   "source": [
    "# test_data_single1 은 5번 디텍터 헤드에 위치해 있기 때문에 회전 각도를 300도로 설정\n",
    "\n",
    "# 먼저 데이터를 0번 디텍터 위치로 회전변환을 해야하므로 각도는 360-300 deg 하여 이동시킴\n",
    "rotate_test_data_single2 = ([(test_data[1][0]*math.cos((360-300)*math.pi/180))-(test_data[1][1]*math.sin((360-300)*math.pi/180)),\\\n",
    "                    (test_data[1][0]*math.sin((360-300)*math.pi/180))+(test_data[1][1]*math.cos((360-300)*math.pi/180)),\\\n",
    "                    test_data[1][2]])\n",
    "print(\"---------test_data_single2 이 회전된 좌표---------\")\n",
    "print(rotate_test_data_single2)\n",
    "print(\"---------------------------------------------\")\n",
    "\n",
    "# 이제 0번 디텍터에서 몇번 크리스탈에 속하는지 알아내야 한다.\n"
   ]
  },
  {
   "cell_type": "code",
   "execution_count": 14,
   "metadata": {},
   "outputs": [
    {
     "name": "stdout",
     "output_type": "stream",
     "text": [
      "---------test_data_single2 이 회전된 좌표---------\n",
      "[43.12476494856465, -15.445716044620589, -0.4635]\n",
      "---------------------------------------------\n",
      "0 : 44.0 < x < 47.0, 5.5 < y < 16.5, 6.5 < z < 19.5\n",
      "1 : 44.0 < x < 47.0, -5.5 < y < 5.5, 6.5 < z < 19.5\n",
      "2 : 44.0 < x < 47.0, -16.5 < y < -5.5, 6.5 < z < 19.5\n",
      "3 : 44.0 < x < 47.0, 5.5 < y < 16.5, -6.5 < z < 6.5\n",
      "4 : 44.0 < x < 47.0, -5.5 < y < 5.5, -6.5 < z < 6.5\n",
      "5 : 44.0 < x < 47.0, -16.5 < y < -5.5, -6.5 < z < 6.5\n",
      "6 : 44.0 < x < 47.0, 5.5 < y < 16.5, -19.5 < z < -6.5\n",
      "7 : 44.0 < x < 47.0, -5.5 < y < 5.5, -19.5 < z < -6.5\n",
      "8 : 44.0 < x < 47.0, -16.5 < y < -5.5, -19.5 < z < -6.5\n"
     ]
    }
   ],
   "source": [
    "print(\"---------test_data_single2 이 회전된 좌표---------\")\n",
    "print(rotate_test_data_single2)\n",
    "print(\"---------------------------------------------\")\n",
    "detector_number = find_detector(origin_crystal_edge)"
   ]
  },
  {
   "cell_type": "markdown",
   "metadata": {},
   "source": [
    "## single1 과 똑같이 5번 크리스탈 범위에 들어가는것을 확인"
   ]
  },
  {
   "cell_type": "code",
   "execution_count": 15,
   "metadata": {},
   "outputs": [
    {
     "name": "stdout",
     "output_type": "stream",
     "text": [
      "['45.500', '-11.000', '0.000']\n"
     ]
    }
   ],
   "source": [
    "rotate_test_data_single2 = crystal_location[0][5]\n",
    "print(rotate_test_data_single2)"
   ]
  },
  {
   "cell_type": "code",
   "execution_count": 16,
   "metadata": {},
   "outputs": [
    {
     "name": "stdout",
     "output_type": "stream",
     "text": [
      "---------test_data_single12 의 초기 좌표---------\n",
      "[8.186, -45.07, -0.4635]\n",
      "---------------------------------------------\n",
      "---------test_data_single12 의 최종 좌표---------\n",
      "[13.223720558371175, -44.90415587219196, 0.0]\n",
      "---------------------------------------------\n"
     ]
    }
   ],
   "source": [
    "# test_data_single1 은 5번 디텍터 헤드에 위치해 있기 때문에 회전 각도를 300도로 설정\n",
    "\n",
    "final_test_data_single2 = ([(float(rotate_test_data_single2[0])*math.cos((300)*math.pi/180))-(float(rotate_test_data_single2[1])*math.sin((300)*math.pi/180)),\\\n",
    "                    (float(rotate_test_data_single2[0])*math.sin((300)*math.pi/180))+(float(rotate_test_data_single2[1])*math.cos((300)*math.pi/180)),\\\n",
    "                    float(rotate_test_data_single2[2])])\n",
    "print(\"---------test_data_single12 의 초기 좌표---------\")\n",
    "print(test_data[1])\n",
    "print(\"---------------------------------------------\")\n",
    "print(\"---------test_data_single12 의 최종 좌표---------\")\n",
    "print(final_test_data_single2)\n",
    "print(\"---------------------------------------------\")\n",
    "\n",
    "# 이제 0번 디텍터에서 몇번 크리스탈에 속하는지 알아내야 한다.\n"
   ]
  },
  {
   "cell_type": "code",
   "execution_count": null,
   "metadata": {},
   "outputs": [],
   "source": []
  }
 ],
 "metadata": {
  "kernelspec": {
   "display_name": "Python 3",
   "language": "python",
   "name": "python3"
  },
  "language_info": {
   "codemirror_mode": {
    "name": "ipython",
    "version": 3
   },
   "file_extension": ".py",
   "mimetype": "text/x-python",
   "name": "python",
   "nbconvert_exporter": "python",
   "pygments_lexer": "ipython3",
   "version": "3.6.4"
  }
 },
 "nbformat": 4,
 "nbformat_minor": 2
}
