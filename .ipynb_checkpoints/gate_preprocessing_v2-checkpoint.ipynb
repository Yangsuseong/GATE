{
 "cells": [
  {
   "cell_type": "markdown",
   "metadata": {},
   "source": [
    "# GATE SIMULATION\n",
    "###                              data preprocessing\n",
    "                                                 made by Yangsuseong"
   ]
  },
  {
   "cell_type": "code",
   "execution_count": null,
   "metadata": {},
   "outputs": [],
   "source": [
    "import os, glob, csv, codecs\n",
    "import shutil\n",
    "import re\n",
    "import itertools\n",
    "import math"
   ]
  },
  {
   "cell_type": "markdown",
   "metadata": {},
   "source": [
    "## 파일 골라내기"
   ]
  },
  {
   "cell_type": "code",
   "execution_count": null,
   "metadata": {},
   "outputs": [],
   "source": [
    "#dat_dir = input(\"Insert Directory : \")\n",
    "dat_dir = \"./\"\n",
    "\n",
    "dat_file_list = glob.glob(dat_dir + '/*.txt')\n",
    "dat_file_list.sort()\n",
    "print(dat_file_list)\n",
    "print(dat_file_list[0][-20:])"
   ]
  },
  {
   "cell_type": "markdown",
   "metadata": {},
   "source": [
    "## 파일 읽어들여서 x,y,z 축 값만 남기고 다 버릴거야\n",
    "    9, 10, 11, 32,33,34 번째 정보\n",
    "    인덱스로는 8,9,10  31,32,33\n",
    "        dat_list 리스트에 저장(x1,y1,z1,x2,y2,z2)"
   ]
  },
  {
   "cell_type": "code",
   "execution_count": null,
   "metadata": {},
   "outputs": [],
   "source": [
    "# 리스트 청크 함수 (리스트, 원하는 길이)\n",
    "# 이거 하고나면 차원이 하나가 더 생겨서 언패킹함수를 사용하여 차원축소를 해야함\n",
    "def chunks(l, n):\n",
    "    n = max(1, n)\n",
    "    return (l[i:i+n] for i in range(0, len(l), n))"
   ]
  },
  {
   "cell_type": "code",
   "execution_count": null,
   "metadata": {},
   "outputs": [],
   "source": [
    "# 언패킹(차원 축소)을 위한 함수\n",
    "def chain(*iterables):\n",
    "    # chain('ABC', 'DEF') --> ['A', 'B', 'C', 'D', 'E', 'F']\n",
    "    for it in iterables:\n",
    "        for element in it:\n",
    "            yield element\n"
   ]
  },
  {
   "cell_type": "code",
   "execution_count": null,
   "metadata": {},
   "outputs": [],
   "source": [
    "dat_list_all = []\n",
    "dat_list_pre = []\n",
    "dat_list = []\n",
    "dat_list_xyz = []\n",
    "\n",
    "\n",
    "#print(\"--------------\" + dat_file_list[i]) + \"----------------\")\n",
    "print(str(len(dat_file_list)) + \"개의 파일을 변환합니다.\")\n",
    "for i in range(len(dat_file_list)):\n",
    "    idx = 0\n",
    "    print(str(i+1) + \"번째 파일\")\n",
    "    txt_data = open(dat_file_list[i],'r')\n",
    "    for j in txt_data:\n",
    "        j = \" \".join(j.split())\n",
    "        j = j.split(\" \")\n",
    "        dat_list_all.append(j)\n",
    "        #print(dat_list_all)"
   ]
  },
  {
   "cell_type": "code",
   "execution_count": null,
   "metadata": {},
   "outputs": [],
   "source": [
    "        \n",
    "dat_len = len(dat_list_all) - 1\n",
    "    \n",
    "for i in range(len(dat_list_all) -1):\n",
    "    #print(i)\n",
    "    dat_list_pre.append(dat_list_all[i][8])\n",
    "    dat_list_pre.append(dat_list_all[i][9])\n",
    "    dat_list_pre.append(dat_list_all[i][10])\n",
    "    dat_list_pre.append(dat_list_all[i][31])\n",
    "    dat_list_pre.append(dat_list_all[i][32])\n",
    "    dat_list_pre.append(dat_list_all[i][33])\n",
    "        \n",
    "dat_list.append(list(chunks(dat_list_pre, 3)))\n",
    "dat_list = list(itertools.chain(*dat_list))\n",
    "dat_list_xyz.append(list(chunks(dat_list,2)))\n",
    "dat_list_xyz = list(itertools.chain(*dat_list_xyz))\n",
    "    \n",
    "print(\"Finish\")\n",
    "txt_data.close()"
   ]
  },
  {
   "cell_type": "markdown",
   "metadata": {},
   "source": [
    "## 이제 x,y,z 값을 가지고 각 디텍터 번호에 대표 값으로 변경시켜주는 작업을 할거야\n",
    "    \n",
    "    <데이터가 저장된 리스트 정보>\n",
    "    dat_list_xyz[ Coincidence Num, Single(0 or 1), xyz(0 or 1 or 2) ]\n",
    "    \n",
    "        ex) 첫번째 coincidence에서 싱글1의 z값을 보려고 한다.\n",
    "               dat_list_xyz[0][0][2]\n",
    "            \n",
    "                    '-1.603e-03'\n",
    "\n",
    "\n",
    "    필요한 자료 : 각 디텍터의 좌표 및 범위, 각 디텍터의 대표값\n",
    "    54개의 큰 if문(x좌표)을 만들고 그 안에서 모든 경우의 수를 만들자"
   ]
  },
  {
   "cell_type": "markdown",
   "metadata": {},
   "source": [
    "## 평균화 작업을 하기 전에 10의 제곱수(e+01 or e+02)들을 숫자로 바꾸는 작업을 진행해야한다.\n",
    "    기본단위가 mm이기 떄문에 0.1 곱해주는 작업까지 진행\n",
    "    ex) -4.389e+02    -->    -43.89 "
   ]
  },
  {
   "cell_type": "code",
   "execution_count": null,
   "metadata": {},
   "outputs": [],
   "source": [
    "#print(dat_list_xyz[0][0][0][:-4])\n",
    "for i in range(dat_len):\n",
    "    for j in range(2):\n",
    "        for k in range(3):\n",
    "            if(str(dat_list_xyz[i][j][k][-4:]) == \"e-06\"):\n",
    "                dat_list_xyz[i][j][k] = str(float(dat_list_xyz[i][j][k][:-4]) * (10**-6) * 0.1)\n",
    "                #print(\"e-06 complete\")\n",
    "            if(str(dat_list_xyz[i][j][k][-4:]) == \"e-05\"):\n",
    "                dat_list_xyz[i][j][k] = str(float(dat_list_xyz[i][j][k][:-4]) * (10**-5)* 0.1)\n",
    "                #print(\"e-05 complete\")\n",
    "            if(str(dat_list_xyz[i][j][k][-4:]) == \"e-04\"):\n",
    "                dat_list_xyz[i][j][k] = str(float(dat_list_xyz[i][j][k][:-4]) * (10**-4)* 0.1)\n",
    "                #print(\"e-04 complete\")\n",
    "            if(str(dat_list_xyz[i][j][k][-4:]) == \"e-03\"):\n",
    "                dat_list_xyz[i][j][k] = str(float(dat_list_xyz[i][j][k][:-4]) * (10**-3)* 0.1)\n",
    "                #print(\"e-03 complete\")\n",
    "            if(str(dat_list_xyz[i][j][k][-4:]) == \"e-02\"):\n",
    "                dat_list_xyz[i][j][k] = str(float(dat_list_xyz[i][j][k][:-4]) * (10**-2)* 0.1)\n",
    "                #print(\"e-02 complete\")\n",
    "            if(str(dat_list_xyz[i][j][k][-4:]) == \"e-01\"):\n",
    "                dat_list_xyz[i][j][k] = str(float(dat_list_xyz[i][j][k][:-4]) * (10**-1)* 0.1)\n",
    "                #print(\"e-01 complete\")\n",
    "            if(str(dat_list_xyz[i][j][k][-4:]) == \"e+00\"):\n",
    "                dat_list_xyz[i][j][k] = str(float(dat_list_xyz[i][j][k][:-4])* 0.1)\n",
    "                #print(\"e+00 complete\")\n",
    "            if(str(dat_list_xyz[i][j][k][-4:]) == \"e+01\"):\n",
    "                dat_list_xyz[i][j][k] = str(float(dat_list_xyz[i][j][k][:-4]) * (10)* 0.1)\n",
    "                #print(\"e+01 complete\")\n",
    "            if(str(dat_list_xyz[i][j][k][-4:]) == \"e+02\"):\n",
    "                dat_list_xyz[i][j][k] = str(float(dat_list_xyz[i][j][k][:-4]) * (10**2)* 0.1)\n",
    "                #print(\"e+02 complete\")\n",
    "            if(str(dat_list_xyz[i][j][k][-4:]) == \"e+03\"):\n",
    "                dat_list_xyz[i][j][k] = str(float(dat_list_xyz[i][j][k][:-4]) * (10**3)* 0.1)\n",
    "                #print(\"e+03 complete\")\n",
    "print(\"Complete\")                "
   ]
  },
  {
   "cell_type": "markdown",
   "metadata": {},
   "source": [
    "## 제대로 바뀌었는지 확인 한번 하고"
   ]
  },
  {
   "cell_type": "code",
   "execution_count": null,
   "metadata": {},
   "outputs": [],
   "source": [
    "float(dat_list_xyz[0][0][0])"
   ]
  },
  {
   "cell_type": "code",
   "execution_count": null,
   "metadata": {},
   "outputs": [],
   "source": [
    "# x,y,z 값 확인용 함수\n",
    "def print_xyz(x, y, z):\n",
    "    print(\"x : \" + x + \",    y : \" + y +  \",    z : \" + z)"
   ]
  },
  {
   "cell_type": "code",
   "execution_count": null,
   "metadata": {},
   "outputs": [],
   "source": [
    "print_xyz(dat_list_xyz[0][0][0], dat_list_xyz[0][0][1], dat_list_xyz[0][0][2])"
   ]
  },
  {
   "cell_type": "markdown",
   "metadata": {},
   "source": [
    "---"
   ]
  },
  {
   "cell_type": "markdown",
   "metadata": {},
   "source": [
    "# 디텍터의 각 좌표들을 구하자"
   ]
  },
  {
   "cell_type": "markdown",
   "metadata": {},
   "source": [
    "# Detector 번호(Crystal)에 맞는 중심(대표)값을 배열로 만들자\n",
    "    지금은 3x3 디텍터 모델에 맞는 함수를 만들었다.\n",
    "    크리스탈의 갯수를 받아서 배열을 생성하는 함수도 생각해보자\n",
    "    \n",
    "    <함수의 인자들>\n",
    "        find_xyz_center(원점으로부터의 거리, 크리스탈의 x축 길이, 크리스탈의 y축 길이, 크리스탈의 z축 길이)"
   ]
  },
  {
   "cell_type": "code",
   "execution_count": null,
   "metadata": {},
   "outputs": [],
   "source": [
    "# 각 크리스탈의 중심값을 얻어내기위한 함수 (3x3)\n",
    "# find_xyz_center(디텍터 갯수, 크리스탈의 x축 갯수, 크리스탈의 y축 갯수, 크리스탈의 z축 갯수, 원점으로부터의 거리, 크리스탈의 x축 길이, 크리스탈의 y축 길이, 크리스탈의 z축 길이)\n",
    "def YSS_find_xyz_center(detector_amount, crystal_x_amount, crystal_y_amount, crystal_z_amount, r, x_len, y_len, z_len,):\n",
    "    crystal_x_num = int((int(crystal_x_amount)/2))\n",
    "    \n",
    "    \n",
    "    result = []\n",
    "    for i in range(int(detector_amount)):\n",
    "        detector = []\n",
    "        crystal = []\n",
    "        crystal_z_num = int((int(crystal_z_amount)/2))\n",
    "        for j in range(int(crystal_z_amount)):\n",
    "            \n",
    "            crystal_y_num = int((int(crystal_y_amount)/2))\n",
    "            for k in range(int(crystal_y_amount)):\n",
    "                crystal.append([r + (x_len/2), (y_len * crystal_y_num), (z_len * crystal_z_num)])\n",
    "                crystal_y_num = crystal_y_num - 1\n",
    "            crystal_z_num = crystal_z_num - 1\n",
    "        detector.append(crystal)\n",
    "        result.append(detector)\n",
    "    result = list(itertools.chain(*result))\n",
    "    detector_rot = result\n",
    "    result = []\n",
    "    \n",
    "    detector_num = 0\n",
    "    for i in range(int(detector_amount)):\n",
    "        det_rot = []\n",
    "        for j in range(len(detector_rot[i])):\n",
    "            det_rot.append([format((detector_rot[i][j][0]*math.cos(((360/detector_amount)*detector_num)*math.pi/180)) - (detector_rot[i][j][1]*math.sin(((360/detector_amount)*detector_num)*math.pi/180)),\".3f\"),\\\n",
    "                           format((detector_rot[i][j][0]*math.sin(((360/detector_amount)*detector_num)*math.pi/180)) + (detector_rot[i][j][1]*math.cos(((360/detector_amount)*detector_num)*math.pi/180)),\".3f\"),\\\n",
    "                           format(detector_rot[i][j][2],\".3f\")])\n",
    "        detector_num += 1\n",
    "        result.append(det_rot)\n",
    "    \n",
    "            \n",
    "    \n",
    "    return result"
   ]
  },
  {
   "cell_type": "code",
   "execution_count": null,
   "metadata": {},
   "outputs": [],
   "source": [
    "# 함수 돌리기 (detector_num, crystal_x_amount, crystal_y_amount, crystal_z_amount, r길이, x_len, y_len, z_len)\n",
    "\n",
    "crystal_location = YSS_find_xyz_center(6, 1, 3, 3, 44, 3, 11, 13)\n",
    "\n",
    "print(crystal_location[0])"
   ]
  },
  {
   "cell_type": "markdown",
   "metadata": {},
   "source": [
    "# 이제 Detector 번호(Crystal)의 중심값을 받아 각 모서리의 좌표를 얻어오는 함수를 만들자\n",
    "    이 정보를 이용하여 x,y,z 축의 범위를 지정해줄것이다.\n",
    "    \n",
    "    crystal_location[0][0][0]  -->  1번 디텍터의 1번 디텍터의 x좌표"
   ]
  },
  {
   "cell_type": "code",
   "execution_count": null,
   "metadata": {},
   "outputs": [],
   "source": [
    "# 각 디텍터의 중심값을 받아와 크리스탈의 모서리의 좌표를 구하는 함수\n",
    "def find_cristal_edge(x, y, z, x_len, y_len, z_len):\n",
    "    x = float(x)\n",
    "    y = float(y)\n",
    "    z = float(z)\n",
    "    x_len = float(x_len)\n",
    "    y_len = float(y_len)\n",
    "    z_len = float(z_len)\n",
    "    edge_a1 = [x-(x_len/2), y+(y_len/2), z-(z_len/2)]\n",
    "    edge_b1 = [x-(x_len/2), y+(y_len/2), z+(z_len/2)]\n",
    "    edge_c1 = [x-(x_len/2), y-(y_len/2), z-(z_len/2)]\n",
    "    edge_d1 = [x-(x_len/2), y-(y_len/2), z+(z_len/2)]\n",
    "    edge_a2 = [x+(x_len/2), y+(y_len/2), z-(z_len/2)]\n",
    "    edge_b2 = [x+(x_len/2), y+(y_len/2), z+(z_len/2)]\n",
    "    edge_c2 = [x+(x_len/2), y-(y_len/2), z-(z_len/2)]\n",
    "    edge_d2 = [x+(x_len/2), y-(y_len/2), z+(z_len/2)]\n",
    "    \n",
    "    \n",
    "    crystal_edge = [edge_a1, edge_b1, edge_c1, edge_d1, edge_a2, edge_b2, edge_c2, edge_d2]\n",
    "    #print(crystal_edge)\n",
    "    return crystal_edge"
   ]
  },
  {
   "cell_type": "markdown",
   "metadata": {},
   "source": [
    "## 엣지좌표구해서 회전까지 한번에 하려했는데... 순서때문에 좌표구하는 함수랑 회전변환 함수랑 따로 구현하자"
   ]
  },
  {
   "cell_type": "code",
   "execution_count": null,
   "metadata": {},
   "outputs": [],
   "source": [
    "def rotate_edge(crystal_edge, detector_num):\n",
    "    rotate_crystal_edge_1 = []\n",
    "    for i in range(detector_num):\n",
    "        for j in range(len(crystal_edge)):\n",
    "            for k in range(len(crystal_edge[j])):\n",
    "                rotate_crystal_edge_1.append([(crystal_edge[j][k][0]*math.cos(((360/detector_num))*i*math.pi/180)) - (crystal_edge[j][k][1]*math.sin(((360/detector_num))*i*math.pi/180)),\\\n",
    "                                               (crystal_edge[j][k][0]*math.sin(((360/detector_num))*i*math.pi/180)) + (crystal_edge[j][k][1]*math.cos(((360/detector_num))*i*math.pi/180)),\\\n",
    "                                                crystal_edge[j][k][2]])\n",
    "            \n",
    "    return rotate_crystal_edge_1"
   ]
  },
  {
   "cell_type": "markdown",
   "metadata": {},
   "source": [
    "# 이제 실행하자\n",
    "    크리스탈 센터값 계산 함수(1번 디텍터만 계산 후 회전변환)"
   ]
  },
  {
   "cell_type": "code",
   "execution_count": null,
   "metadata": {},
   "outputs": [],
   "source": [
    "origin_crystal_edge = []\n",
    "for j in range(len(crystal_location[0])):\n",
    "    origin_crystal_edge.append(find_cristal_edge(crystal_location[0][j][0],\\\n",
    "                          crystal_location[0][j][1],\\\n",
    "                          crystal_location[0][j][2],\\\n",
    "                          3, 11, 13))  \n",
    "    \n",
    "print(origin_crystal_edge[8])"
   ]
  },
  {
   "cell_type": "markdown",
   "metadata": {},
   "source": [
    "    회전변환 시작"
   ]
  },
  {
   "cell_type": "code",
   "execution_count": null,
   "metadata": {},
   "outputs": [],
   "source": [
    "rotate_crystal_edge = rotate_edge(origin_crystal_edge, 6)\n",
    "\n",
    "# 모서리 좌표 리스트를 차원을 늘려서 디텍터별로 나누자\n",
    "rotate_crystal_edge_chunks_1 = []\n",
    "rotate_crystal_edge_chunks = []\n",
    "rotate_crystal_edge_chunks_1.append(list(chunks(rotate_crystal_edge, 8)))\n",
    "rotate_crystal_edge_chunks_1 = list(itertools.chain(*rotate_crystal_edge_chunks_1))\n",
    "rotate_crystal_edge_chunks.append(list(chunks(rotate_crystal_edge_chunks_1, 9)))\n",
    "rotate_crystal_edge_chunks = list(itertools.chain(*rotate_crystal_edge_chunks))\n"
   ]
  },
  {
   "cell_type": "markdown",
   "metadata": {},
   "source": [
    "crystal_location[디텍터 번호][크리스탈 번호][xyz 인덱스]\n",
    "\n",
    "rotate_crystal_edge[ 크리스탈 번호 ][ 모서리번호(a1,b1,c1,d1,a2,b2,c2,d2) ][ xyz 인덱스 ]\n",
    "\n",
    "rotate_crystal_edge_chunks[디텍터 번호][크리스탈 번호][모서리 위치][xyz 좌표(0,1,2)]"
   ]
  },
  {
   "cell_type": "markdown",
   "metadata": {},
   "source": [
    "---"
   ]
  },
  {
   "cell_type": "markdown",
   "metadata": {},
   "source": [
    "## 이제 대표값으로 바꾸자\n",
    "--- \n"
   ]
  },
  {
   "cell_type": "code",
   "execution_count": 1,
   "metadata": {},
   "outputs": [],
   "source": [
    "# normalization(원본 데이터, 중심값, 모서리값)\n",
    "def normalization(dat_list_xyz, crystal_location, crystal_edge):\n",
    "    #print(dat_list_xyz)\n",
    "    crystal_location = list(itertools.chain(*crystal_location))\n",
    "    print(len(crystal_location))\n",
    "    crystal_edge = list(itertools.chain(*crystal_edge))\n",
    "    #print(crystal_edge)\n",
    "    ave_xyz_list = []\n",
    "    \n",
    "    for i in range(len(dat_list_xyz)):\n",
    "        #데이터 순서\n",
    "        \n",
    "        for j in range(len(dat_list_xyz[i])):\n",
    "            # 싱글\n",
    "            #print(dat_list_xyz[i][j])\n",
    "            crystal_range = []\n",
    "            \n",
    "            for l in range(len(crystal_edge)):\n",
    "            #크리스탈 번호\n",
    "                #print(crystal_edge)\n",
    "                xh=0\n",
    "                xl=0\n",
    "                yh=0\n",
    "                yl=0\n",
    "                zh=0\n",
    "                zl=0\n",
    "                for m in range(len(crystal_edge[l])):\n",
    "                    # 모서리 번호\n",
    "                    #print(crystal_edge[l][m])\n",
    "                    x_min = 1000.0\n",
    "                    x_max = -1000.0\n",
    "                    y_min = 1000.0\n",
    "                    y_max = -1000.0\n",
    "                    z_min = 1000.0\n",
    "                    z_max = -1000.0\n",
    "                    # min 과 max 범위가 똑같다? 왜지?\n",
    "                    if(x_min > float(crystal_edge[l][m][0])):\n",
    "                        x_min = float(crystal_edge[l][m][0])\n",
    "                        xl = x_min\n",
    "                    if(x_max < float(crystal_edge[l][m][0])):\n",
    "                        x_max = float(crystal_edge[l][m][0])\n",
    "                        xh=x_max\n",
    "                    if(y_min > float(crystal_edge[l][m][1])):\n",
    "                        y_min = float(crystal_edge[l][m][1])\n",
    "                        yl=y_min\n",
    "                    if(y_max < float(crystal_edge[l][m][1])):\n",
    "                        y_max = float(crystal_edge[l][m][1])\n",
    "                        yh=y_max\n",
    "                    if(z_min > float(crystal_edge[l][m][2])):\n",
    "                        z_min = float(crystal_edge[l][m][2])\n",
    "                        zl=z_min\n",
    "                    if(z_max < float(crystal_edge[l][m][2])):\n",
    "                        z_max = float(crystal_edge[l][m][2])\n",
    "                        zh=z_max\n",
    "                crystal_range.append([xh,xl,yh,yl,zh,zl])\n",
    "                if(l == len(crystal_edge)-1):\n",
    "                    print(crystal_range)\n",
    "                        \n",
    "                \n",
    "                #print(\"x_max = \" + str(x_max) + \"   x_min = \" + str(x_min) + \"   y_max = \" + str(y_max) + \"   y_min = \" + str(y_min) + \"   z_max = \" + str(z_max) + \"   z_min = \" + str(z_min))\n",
    "                \n",
    "                if(x_min <= float(dat_list_xyz[i][j][0]) and x_max >= float(dat_list_xyz[i][j][0])):\n",
    "                    if(y_min <= float(dat_list_xyz[i][j][1]) and y_max >= float(dat_list_xyz[i][j][1])):\n",
    "                        if(z_min <= float(dat_list_xyz[i][j][2]) and z_max >= float(dat_list_xyz[i][j][2])):\n",
    "                            ave_xyz_list.append([crystal_location[l][0], crystal_location[l][1], crystal_location[l][2]])\n",
    "                #print(ave_xyz_list)\n",
    "            #print(\"-----------------------------\")   \n",
    "            \n",
    "    \n",
    "            \n",
    "\n",
    "    return ave_xyz_list\n",
    "                            \n",
    "                \n",
    "                \n",
    "        \n",
    "    "
   ]
  },
  {
   "cell_type": "code",
   "execution_count": null,
   "metadata": {},
   "outputs": [],
   "source": [
    "dat_list_xyz[0]"
   ]
  },
  {
   "cell_type": "code",
   "execution_count": null,
   "metadata": {},
   "outputs": [],
   "source": [
    "# normalization(원본 데이터, 중심값, 모서리값)\n",
    "ave_xyz_list = normalization(dat_list_xyz, crystal_location, rotate_crystal_edge_chunks)"
   ]
  },
  {
   "cell_type": "code",
   "execution_count": null,
   "metadata": {},
   "outputs": [],
   "source": [
    "ave_xyz_list"
   ]
  },
  {
   "cell_type": "code",
   "execution_count": null,
   "metadata": {},
   "outputs": [],
   "source": []
  },
  {
   "cell_type": "markdown",
   "metadata": {},
   "source": [
    "소수점 x자리까지 자르는거 하고 single 별로 다시 묶자"
   ]
  },
  {
   "cell_type": "code",
   "execution_count": null,
   "metadata": {},
   "outputs": [],
   "source": [
    "ave_xyz_final = []\n",
    "ave_xyz_final.append(list(chunks(ave_xyz_list, 2)))\n",
    "ave_xyz_final = list(itertools.chain(*ave_xyz_final))\n",
    "print(ave_xyz_final)"
   ]
  },
  {
   "cell_type": "code",
   "execution_count": null,
   "metadata": {},
   "outputs": [],
   "source": [
    "dat_list_xyz[0]"
   ]
  },
  {
   "cell_type": "code",
   "execution_count": null,
   "metadata": {},
   "outputs": [],
   "source": [
    "ave_xyz_list"
   ]
  },
  {
   "cell_type": "code",
   "execution_count": null,
   "metadata": {},
   "outputs": [],
   "source": [
    "ave_xyz_final"
   ]
  },
  {
   "cell_type": "code",
   "execution_count": null,
   "metadata": {},
   "outputs": [],
   "source": []
  },
  {
   "cell_type": "code",
   "execution_count": null,
   "metadata": {},
   "outputs": [],
   "source": []
  },
  {
   "cell_type": "code",
   "execution_count": null,
   "metadata": {},
   "outputs": [],
   "source": []
  },
  {
   "cell_type": "code",
   "execution_count": null,
   "metadata": {},
   "outputs": [],
   "source": [
    "# 각 크리스탈의 중심값 찾기 (detector_num, crystal_x_amount, crystal_y_amount, crystal_z_amount, r길이, x_len, y_len, z_len)\n",
    "\n",
    "crystal_location = YSS_find_xyz_center(6, 1, 3, 3, 44, 3, 11, 13)\n",
    "\n",
    "print(crystal_location[0])"
   ]
  },
  {
   "cell_type": "code",
   "execution_count": null,
   "metadata": {},
   "outputs": [],
   "source": [
    "# 각 크리스탈의 모서리 값 구하기\n",
    "origin_crystal_edge = []\n",
    "for j in range(len(crystal_location[0])):\n",
    "    origin_crystal_edge.append(find_cristal_edge(crystal_location[0][j][0],\\\n",
    "                          crystal_location[0][j][1],\\\n",
    "                          crystal_location[0][j][2],\\\n",
    "                          3, 11, 13))  \n",
    "    \n",
    "print(origin_crystal_edge[8])"
   ]
  },
  {
   "cell_type": "code",
   "execution_count": null,
   "metadata": {},
   "outputs": [],
   "source": [
    "# 모서리 회전변환\n",
    "rotate_crystal_edge = rotate_edge(origin_crystal_edge, 6)\n",
    "\n",
    "# 모서리 좌표 리스트를 차원을 늘려서 디텍터별로 나누자\n",
    "rotate_crystal_edge_chunks_1 = []\n",
    "rotate_crystal_edge_chunks = []\n",
    "rotate_crystal_edge_chunks_1.append(list(chunks(rotate_crystal_edge, 8)))\n",
    "rotate_crystal_edge_chunks_1 = list(itertools.chain(*rotate_crystal_edge_chunks_1))\n",
    "rotate_crystal_edge_chunks.append(list(chunks(rotate_crystal_edge_chunks_1, 9)))\n",
    "rotate_crystal_edge_chunks = list(itertools.chain(*rotate_crystal_edge_chunks))\n"
   ]
  },
  {
   "cell_type": "markdown",
   "metadata": {},
   "source": [
    "# 변수 정리"
   ]
  },
  {
   "cell_type": "code",
   "execution_count": null,
   "metadata": {},
   "outputs": [],
   "source": [
    "# 각 크리스탈의 중심좌표\n",
    "# crystal_location[디텍터 번호][크리스탈 번호]\n",
    "print(crystal_location[0][0])"
   ]
  },
  {
   "cell_type": "code",
   "execution_count": null,
   "metadata": {},
   "outputs": [],
   "source": [
    "# 각 크리스탈의 모서리 좌표 (a, b, c, d, a', b', c', d')\n",
    "#  rotate_crystal_edge_chunks[디텍터 번호][크리스탈 번호][모서리 위치]\n",
    "print(rotate_crystal_edge_chunks[3][0])\n",
    "print(rotate_crystal_edge_chunks[0][0][0])"
   ]
  },
  {
   "cell_type": "code",
   "execution_count": null,
   "metadata": {},
   "outputs": [],
   "source": [
    "# Nearby neighborhoods 방법을 사용하여 바꾼 coincidences의 좌표\n",
    "# ave_xyz_final[coindicence 번호][single]\n",
    "ave_xyz_final"
   ]
  },
  {
   "cell_type": "code",
   "execution_count": null,
   "metadata": {},
   "outputs": [],
   "source": []
  },
  {
   "cell_type": "code",
   "execution_count": null,
   "metadata": {},
   "outputs": [],
   "source": []
  }
 ],
 "metadata": {
  "kernelspec": {
   "display_name": "Python 3",
   "language": "python",
   "name": "python3"
  },
  "language_info": {
   "codemirror_mode": {
    "name": "ipython",
    "version": 3
   },
   "file_extension": ".py",
   "mimetype": "text/x-python",
   "name": "python",
   "nbconvert_exporter": "python",
   "pygments_lexer": "ipython3",
   "version": "3.6.8"
  }
 },
 "nbformat": 4,
 "nbformat_minor": 2
}
