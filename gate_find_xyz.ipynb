{
 "cells": [
  {
   "cell_type": "markdown",
   "metadata": {},
   "source": [
    "### 2019. 01. 28                         \n",
    "       made by Yangsuseong"
   ]
  },
  {
   "cell_type": "code",
   "execution_count": 21,
   "metadata": {},
   "outputs": [],
   "source": [
    "import math"
   ]
  },
  {
   "cell_type": "markdown",
   "metadata": {},
   "source": [
    "# Detector 번호(Crystal)에 맞는 중심(대표)값을 배열로 만들자\n",
    "    지금은 3x3 디텍터 모델에 맞는 함수를 만들었다.\n",
    "    크리스탈의 갯수를 받아서 배열을 생성하는 함수도 생각해보자\n",
    "    \n",
    "    <함수의 인자들>\n",
    "        find_xyz_center(원점으로부터의 거리, 크리스탈의 x축 길이, 크리스탈의 y축 길이, 크리스탈의 z축 길이)"
   ]
  },
  {
   "cell_type": "code",
   "execution_count": 52,
   "metadata": {},
   "outputs": [],
   "source": [
    "# 각 크리스탈의 중심값을 얻어내기위한 함수 (3x3)\n",
    "# find_xyz_center(원점으로부터의 거리, 크리스탈의 x축 길이, 크리스탈의 y축 길이, 크리스탈의 z축 길이)\n",
    "def YSS_find_xyz_center(r, x_len, y_len, z_len):\n",
    "    crystal_1 = [r + (x_len/2), y_len, -z_len]\n",
    "    crystal_2 = [r + (x_len/2), 0, -z_len]\n",
    "    crystal_3 = [r + (x_len/2), -y_len, -z_len]\n",
    "    crystal_4 = [r + (x_len/2), y_len, 0]\n",
    "    crystal_5 = [r + (x_len/2), 0, 0]\n",
    "    crystal_6 = [r + (x_len/2), -y_len, 0]\n",
    "    crystal_7 = [r + (x_len/2), y_len, z_len]\n",
    "    crystal_8 = [r + (x_len/2), 0, z_len]\n",
    "    crystal_9 = [r + (x_len/2), -y_len, z_len]\n",
    "    detector_1 = [crystal_1, crystal_2, crystal_3, crystal_4, crystal_5, crystal_6, crystal_7, crystal_8, crystal_9]\n",
    "    detector_2 = []\n",
    "    detector_3 = []\n",
    "    detector_4 = []\n",
    "    detector_5 = []\n",
    "    detector_6 = []\n",
    "    \n",
    "    for i in range(len(detector_1)):\n",
    "        detector_2.append([(detector_1[i][0]*math.cos(60*math.pi/180)) - (detector_1[i][1]*math.sin(60*math.pi/180)),\\\n",
    "                           (detector_1[i][0]*math.sin(60*math.pi/180)) + (detector_1[i][1]*math.cos(60*math.pi/180)),\\\n",
    "                            detector_1[i][2]])\n",
    "        detector_3.append([(detector_1[i][0]*math.cos(120*math.pi/180)) - (detector_1[i][1]*math.sin(120*math.pi/180)),\\\n",
    "                           (detector_1[i][0]*math.sin(120*math.pi/180)) + (detector_1[i][1]*math.cos(120*math.pi/180)),\\\n",
    "                            detector_1[i][2]])\n",
    "        detector_4.append([(detector_1[i][0]*math.cos(180*math.pi/180)) - (detector_1[i][1]*math.sin(180*math.pi/180)),\\\n",
    "                           (detector_1[i][0]*math.sin(180*math.pi/180)) + (detector_1[i][1]*math.cos(180*math.pi/180)),\\\n",
    "                            detector_1[i][2]])\n",
    "        detector_5.append([(detector_1[i][0]*math.cos(240*math.pi/180)) - (detector_1[i][1]*math.sin(240*math.pi/180)),\\\n",
    "                           (detector_1[i][0]*math.sin(240*math.pi/180)) + (detector_1[i][1]*math.cos(240*math.pi/180)),\\\n",
    "                            detector_1[i][2]])\n",
    "        detector_6.append([(detector_1[i][0]*math.cos(300*math.pi/180)) - (detector_1[i][1]*math.sin(300*math.pi/180)),\\\n",
    "                           (detector_1[i][0]*math.sin(300*math.pi/180)) + (detector_1[i][1]*math.cos(300*math.pi/180)),\\\n",
    "                            detector_1[i][2]])\n",
    "    \"\"\"\n",
    "    print(detector_1)\n",
    "    print(\"\\n\")\n",
    "    print(detector_2)\n",
    "    print(\"\\n\")\n",
    "    print(detector_3)\n",
    "    print(\"\\n\")\n",
    "    print(detector_4)\n",
    "    print(\"\\n\")\n",
    "    print(detector_5)\n",
    "    print(\"\\n\")\n",
    "    print(detector_6)\n",
    "    \"\"\"\n",
    "    total_crystal_location = [detector_1, detector_2, detector_3, detector_4, detector_5, detector_6]\n",
    "    #print(total_crystal_location)\n",
    "    \n",
    "    return total_crystal_location"
   ]
  },
  {
   "cell_type": "markdown",
   "metadata": {},
   "source": [
    "지금 여기 좀 이상한데? 배열이 이상하게 묶인다"
   ]
  },
  {
   "cell_type": "code",
   "execution_count": 53,
   "metadata": {},
   "outputs": [
    {
     "name": "stdout",
     "output_type": "stream",
     "text": [
      "[[[45.5, 11, -13], [45.5, 0, -13], [45.5, -11, -13], [45.5, 11, 0], [45.5, 0, 0], [45.5, -11, 0], [45.5, 11, 13], [45.5, 0, 13], [45.5, -11, 13]], [[13.223720558371179, 44.90415587219196, -13], [22.750000000000004, 39.40415587219196, -13], [32.27627944162883, 33.90415587219196, -13], [13.223720558371179, 44.90415587219196, 0], [22.750000000000004, 39.40415587219196, 0], [32.27627944162883, 33.90415587219196, 0], [13.223720558371179, 44.90415587219196, 13], [22.750000000000004, 39.40415587219196, 13], [32.27627944162883, 33.90415587219196, 13]], [[-32.276279441628816, 33.904155872191964, -13], [-22.74999999999999, 39.404155872191964, -13], [-13.223720558371163, 44.904155872191964, -13], [-32.276279441628816, 33.904155872191964, 0], [-22.74999999999999, 39.404155872191964, 0], [-13.223720558371163, 44.904155872191964, 0], [-32.276279441628816, 33.904155872191964, 13], [-22.74999999999999, 39.404155872191964, 13], [-13.223720558371163, 44.904155872191964, 13]], [[-45.5, -10.999999999999995, -13], [-45.5, 5.572142936120457e-15, -13], [-45.5, 11.000000000000005, -13], [-45.5, -10.999999999999995, 0], [-45.5, 5.572142936120457e-15, 0], [-45.5, 11.000000000000005, 0], [-45.5, -10.999999999999995, 13], [-45.5, 5.572142936120457e-15, 13], [-45.5, 11.000000000000005, 13]], [[-13.223720558371198, -44.90415587219195, -13], [-22.75000000000002, -39.40415587219194, -13], [-32.276279441628844, -33.904155872191936, -13], [-13.223720558371198, -44.90415587219195, 0], [-22.75000000000002, -39.40415587219194, 0], [-32.276279441628844, -33.904155872191936, 0], [-13.223720558371198, -44.90415587219195, 13], [-22.75000000000002, -39.40415587219194, 13], [-32.276279441628844, -33.904155872191936, 13]], [[32.27627944162882, -33.90415587219196, -13], [22.75, -39.40415587219196, -13], [13.223720558371175, -44.90415587219196, -13], [32.27627944162882, -33.90415587219196, 0], [22.75, -39.40415587219196, 0], [13.223720558371175, -44.90415587219196, 0], [32.27627944162882, -33.90415587219196, 13], [22.75, -39.40415587219196, 13], [13.223720558371175, -44.90415587219196, 13]]]\n"
     ]
    }
   ],
   "source": [
    "crystal_location = YSS_find_xyz_center(44, 3, 11, 13) \n",
    "print(crystal_location)"
   ]
  },
  {
   "cell_type": "code",
   "execution_count": 57,
   "metadata": {},
   "outputs": [
    {
     "data": {
      "text/plain": [
       "[45.5, 11, -13]"
      ]
     },
     "execution_count": 57,
     "metadata": {},
     "output_type": "execute_result"
    }
   ],
   "source": [
    "crystal_location[0][0]"
   ]
  },
  {
   "cell_type": "markdown",
   "metadata": {},
   "source": [
    "# 이제 Detector 번호(Crystal)의 중심값을 받아 각 모서리의 좌표를 얻어오는 함수를 만들자\n",
    "    이 정보를 이용하여 x,y,z 축의 범위를 지정해줄것이다.\n",
    "    \n",
    "    crystal_location[0][0][0]  -->  1번 디텍터의 1번 디텍터의 x좌표"
   ]
  },
  {
   "cell_type": "code",
   "execution_count": 59,
   "metadata": {},
   "outputs": [],
   "source": [
    "# 각 디텍터의 중심값을 받아와 크리스탈의 각 모서리의 좌표를 구하는 함수\n",
    "def find_cristal_edge(x, y, z, x_len, y_len, z_len):\n",
    "    edge_a1 = [x-(x_len/2), y+(y_len/2), z-(z_len/2)]\n",
    "    edge_b1 = [x-(x_len/2), y+(y_len/2), z+(z_len/2)]\n",
    "    edge_c1 = [x-(x_len/2), y-(y_len/2), z-(z_len/2)]\n",
    "    edge_d1 = [x-(x_len/2), y-(y_len/2), z+(z_len/2)]\n",
    "    edge_a2 = [x+(x_len/2), y+(y_len/2), z-(z_len/2)]\n",
    "    edge_b2 = [x+(x_len/2), y+(y_len/2), z+(z_len/2)]\n",
    "    edge_c2 = [x+(x_len/2), y-(y_len/2), z-(z_len/2)]\n",
    "    edge_d2 = [x+(x_len/2), y-(y_len/2), z+(z_len/2)]\n",
    "    \n",
    "    crystal_edge = [edge_a1, edge_b1, edge_c1, edge_d1, edge_a2, edge_b2, edge_c2, edge_d2]\n",
    "    print(crystal_edge)"
   ]
  },
  {
   "cell_type": "code",
   "execution_count": 60,
   "metadata": {},
   "outputs": [
    {
     "name": "stdout",
     "output_type": "stream",
     "text": [
      "[[44.0, 16.5, -19.5], [44.0, 16.5, -6.5], [44.0, 5.5, -19.5], [44.0, 5.5, -6.5], [47.0, 16.5, -19.5], [47.0, 16.5, -6.5], [47.0, 5.5, -19.5], [47.0, 5.5, -6.5]]\n"
     ]
    }
   ],
   "source": [
    "find_cristal_edge(crystal_location[0][0][0], crystal_location[0][0][1], crystal_location[0][0][2], 3, 11, 13)"
   ]
  },
  {
   "cell_type": "code",
   "execution_count": 70,
   "metadata": {},
   "outputs": [
    {
     "data": {
      "text/plain": [
       "[45.5, 11, -13]"
      ]
     },
     "execution_count": 70,
     "metadata": {},
     "output_type": "execute_result"
    }
   ],
   "source": [
    "crystal_location[0][0]"
   ]
  },
  {
   "cell_type": "code",
   "execution_count": 68,
   "metadata": {},
   "outputs": [
    {
     "name": "stdout",
     "output_type": "stream",
     "text": [
      "0\n",
      "0\n",
      "1\n",
      "2\n",
      "3\n",
      "4\n",
      "5\n",
      "6\n",
      "7\n",
      "8\n",
      "1\n",
      "0\n",
      "1\n",
      "2\n",
      "3\n",
      "4\n",
      "5\n",
      "6\n",
      "7\n",
      "8\n",
      "2\n",
      "0\n",
      "1\n",
      "2\n",
      "3\n",
      "4\n",
      "5\n",
      "6\n",
      "7\n",
      "8\n",
      "3\n",
      "0\n",
      "1\n",
      "2\n",
      "3\n",
      "4\n",
      "5\n",
      "6\n",
      "7\n",
      "8\n",
      "4\n",
      "0\n",
      "1\n",
      "2\n",
      "3\n",
      "4\n",
      "5\n",
      "6\n",
      "7\n",
      "8\n",
      "5\n",
      "0\n",
      "1\n",
      "2\n",
      "3\n",
      "4\n",
      "5\n",
      "6\n",
      "7\n",
      "8\n"
     ]
    }
   ],
   "source": [
    "# 이거 회전변환하는거 detector_1 --> crystal_location[i][j][0] crystal_location[i][j][1] crystal_location[i][j][2] 로 바꾸자\n",
    "for i in range(len(crystal_location)):\n",
    "    #print(i)\n",
    "    for j in range(len(crystal_location[i])):\n",
    "        #print(j)\n",
    "    \"\"\"\n",
    "        detector_2.append([(detector_1[i][0]*math.cos(60*math.pi/180)) - (detector_1[i][1]*math.sin(60*math.pi/180)),\\\n",
    "                           (detector_1[i][0]*math.sin(60*math.pi/180)) + (detector_1[i][1]*math.cos(60*math.pi/180)),\\\n",
    "                            detector_1[i][2]])\n",
    "        detector_3.append([(detector_1[i][0]*math.cos(120*math.pi/180)) - (detector_1[i][1]*math.sin(120*math.pi/180)),\\\n",
    "                           (detector_1[i][0]*math.sin(120*math.pi/180)) + (detector_1[i][1]*math.cos(120*math.pi/180)),\\\n",
    "                            detector_1[i][2]])\n",
    "        detector_4.append([(detector_1[i][0]*math.cos(180*math.pi/180)) - (detector_1[i][1]*math.sin(180*math.pi/180)),\\\n",
    "                           (detector_1[i][0]*math.sin(180*math.pi/180)) + (detector_1[i][1]*math.cos(180*math.pi/180)),\\\n",
    "                            detector_1[i][2]])\n",
    "        detector_5.append([(detector_1[i][0]*math.cos(240*math.pi/180)) - (detector_1[i][1]*math.sin(240*math.pi/180)),\\\n",
    "                           (detector_1[i][0]*math.sin(240*math.pi/180)) + (detector_1[i][1]*math.cos(240*math.pi/180)),\\\n",
    "                            detector_1[i][2]])\n",
    "        detector_6.append([(detector_1[i][0]*math.cos(300*math.pi/180)) - (detector_1[i][1]*math.sin(300*math.pi/180)),\\\n",
    "                           (detector_1[i][0]*math.sin(300*math.pi/180)) + (detector_1[i][1]*math.cos(300*math.pi/180)),\\\n",
    "                            detector_1[i][2]])\n",
    "                            \"\"\""
   ]
  },
  {
   "cell_type": "code",
   "execution_count": null,
   "metadata": {},
   "outputs": [],
   "source": []
  }
 ],
 "metadata": {
  "kernelspec": {
   "display_name": "Python 3",
   "language": "python",
   "name": "python3"
  },
  "language_info": {
   "codemirror_mode": {
    "name": "ipython",
    "version": 3
   },
   "file_extension": ".py",
   "mimetype": "text/x-python",
   "name": "python",
   "nbconvert_exporter": "python",
   "pygments_lexer": "ipython3",
   "version": "3.6.4"
  }
 },
 "nbformat": 4,
 "nbformat_minor": 2
}
