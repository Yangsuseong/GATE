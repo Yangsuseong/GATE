{
 "cells": [
  {
   "cell_type": "markdown",
   "metadata": {},
   "source": [
    "# GATE SIMULATION\n",
    "### data normalization"
   ]
  },
  {
   "cell_type": "code",
   "execution_count": 6,
   "metadata": {},
   "outputs": [],
   "source": [
    "import os, glob, csv, codecs\n",
    "import shutil\n",
    "import re\n",
    "import itertools"
   ]
  },
  {
   "cell_type": "markdown",
   "metadata": {},
   "source": [
    "### 파일 골라내기\n",
    "    dat_dir 과 슬라이싱 범위는 상황에 따라 변경해야함"
   ]
  },
  {
   "cell_type": "code",
   "execution_count": 32,
   "metadata": {},
   "outputs": [
    {
     "name": "stdout",
     "output_type": "stream",
     "text": [
      "['/home/yang/Documents/gate_git/testCoincidence.txt']\n",
      "testCoincidence.txt\n"
     ]
    }
   ],
   "source": [
    "#dat_dir = input(\"Insert Directory : \")\n",
    "dat_dir = \"/home/yang/Documents/gate_git/\"\n",
    "\n",
    "dat_file_list = glob.glob(dat_dir + '/*.txt')\n",
    "dat_file_list.sort()\n",
    "print(dat_file_list)\n",
    "print(dat_file_list[0][30:])"
   ]
  },
  {
   "cell_type": "markdown",
   "metadata": {},
   "source": [
    "### 파일 읽어들여서 x,y,z 축 값만 남기고 다 버릴거야\n",
    "    9, 10, 11, 32,33,34 번째 정보\n",
    "    인덱스로는 8,9,10  31,32,33\n",
    "        dat_list 리스트에 저장(x1,y1,z1,x2,y2,z2)"
   ]
  },
  {
   "cell_type": "code",
   "execution_count": 3,
   "metadata": {},
   "outputs": [],
   "source": [
    "# 리스트 청크 함수 (리스트, 원하는 길이)\n",
    "def chunks(l, n):\n",
    "    n = max(1, n)\n",
    "    return (l[i:i+n] for i in range(0, len(l), n))"
   ]
  },
  {
   "cell_type": "code",
   "execution_count": 11,
   "metadata": {},
   "outputs": [],
   "source": [
    "# 언패킹(차원 축소)을 위한 함수\n",
    "def chain(*iterables):\n",
    "    # chain('ABC', 'DEF') --> ['A', 'B', 'C', 'D', 'E', 'F']\n",
    "    for it in iterables:\n",
    "        for element in it:\n",
    "            yield element\n"
   ]
  },
  {
   "cell_type": "code",
   "execution_count": 38,
   "metadata": {},
   "outputs": [
    {
     "name": "stdout",
     "output_type": "stream",
     "text": [
      "1개의 파일을 변환합니다.\n",
      "1번째 파일\n",
      "Finish\n"
     ]
    }
   ],
   "source": [
    "dat_list_all = []\n",
    "dat_list_pre = []\n",
    "dat_list = []\n",
    "dat_list_xyz = []\n",
    "\n",
    "\n",
    "#print(\"--------------\" + dat_file_list[i]) + \"----------------\")\n",
    "print(str(len(dat_file_list)) + \"개의 파일을 변환합니다.\")\n",
    "for i in range(len(dat_file_list)):\n",
    "    idx = 0\n",
    "    print(str(i+1) + \"번째 파일\")\n",
    "    txt_data = open(dat_file_list[i],'r')\n",
    "    for j in txt_data:\n",
    "        j = \" \".join(j.split())\n",
    "        j = j.split(\" \")\n",
    "        dat_list_all.append(j)\n",
    "        #print(dat_list_all)\n",
    "        \n",
    "dat_len = len(dat_list_all) - 1\n",
    "    \n",
    "for i in range(dat_len):\n",
    "    #print(i)\n",
    "    dat_list_pre.append(dat_list_all[i][8])\n",
    "    dat_list_pre.append(dat_list_all[i][9])\n",
    "    dat_list_pre.append(dat_list_all[i][10])\n",
    "    dat_list_pre.append(dat_list_all[i][31])\n",
    "    dat_list_pre.append(dat_list_all[i][32])\n",
    "    dat_list_pre.append(dat_list_all[i][33])\n",
    "    #print(\"clear\")\n",
    "        \n",
    "dat_list.append(list(chunks(dat_list_pre, 3)))\n",
    "dat_list = list(itertools.chain(*dat_list))\n",
    "dat_list_xyz.append(list(chunks(dat_list,2)))\n",
    "dat_list_xyz = list(itertools.chain(*dat_list_xyz))\n",
    "    \n",
    "print(\"Finish\")\n",
    "txt_data.close()\n"
   ]
  },
  {
   "cell_type": "markdown",
   "metadata": {},
   "source": [
    "### 가져온 x,y,z 값을 가지고 각 디텍터 번호에 대표 값으로 변경시켜주는 작업을 할거야\n",
    "    \n",
    "    <데이터가 저장된 리스트 정보>\n",
    "    dat_list_xyz[ Coincidence Num, Single(0 or 1), xyz(0 or 1 or 2) ]\n",
    "    \n",
    "        ex) 첫번째 coincidence에서 싱글1의 z값을 보려고 한다.\n",
    "               dat_list_xyz[0][0][2]\n",
    "            \n",
    "                    '-1.603e-03'\n",
    "\n",
    "\n",
    "    필요한 자료 : 각 디텍터의 좌표 및 범위, 각 디텍터의 대표값"
   ]
  },
  {
   "cell_type": "code",
   "execution_count": 45,
   "metadata": {},
   "outputs": [],
   "source": [
    "# 변환하는 함수를 만들어!!\n",
    "# if문 졸라 많이 만들어야 할듯 ...,........경우의 수가 .,,.,.,.,.,.,.,.,, 54개로 나눠야되는데 미쳤네\n",
    "#def normalization():\n",
    "    "
   ]
  },
  {
   "cell_type": "code",
   "execution_count": 43,
   "metadata": {},
   "outputs": [
    {
     "name": "stdout",
     "output_type": "stream",
     "text": [
      "3.577e+02\n",
      "3.577e+02\n",
      "3.577e+02\n",
      "3.577e+02\n",
      "3.577e+02\n",
      "3.577e+02\n",
      "3.577e+02\n",
      "3.577e+02\n",
      "3.577e+02\n",
      "3.577e+02\n",
      "3.577e+02\n",
      "3.577e+02\n",
      "3.577e+02\n",
      "3.577e+02\n",
      "3.577e+02\n",
      "3.577e+02\n",
      "3.577e+02\n",
      "3.577e+02\n",
      "3.577e+02\n",
      "3.577e+02\n",
      "3.577e+02\n",
      "3.577e+02\n",
      "3.577e+02\n",
      "3.577e+02\n",
      "3.577e+02\n",
      "3.577e+02\n",
      "3.577e+02\n",
      "3.577e+02\n",
      "3.577e+02\n",
      "3.577e+02\n",
      "3.577e+02\n",
      "3.577e+02\n",
      "3.577e+02\n",
      "3.577e+02\n",
      "3.577e+02\n",
      "3.577e+02\n",
      "3.577e+02\n",
      "3.577e+02\n",
      "3.577e+02\n",
      "3.577e+02\n",
      "3.577e+02\n",
      "3.577e+02\n",
      "3.577e+02\n",
      "3.577e+02\n",
      "3.577e+02\n",
      "3.577e+02\n",
      "3.577e+02\n",
      "3.577e+02\n",
      "3.577e+02\n",
      "3.577e+02\n",
      "3.577e+02\n",
      "3.577e+02\n",
      "3.577e+02\n",
      "3.577e+02\n",
      "3.577e+02\n",
      "3.577e+02\n",
      "3.577e+02\n",
      "3.577e+02\n",
      "3.577e+02\n",
      "3.577e+02\n",
      "3.577e+02\n",
      "3.577e+02\n",
      "3.577e+02\n",
      "3.577e+02\n",
      "3.577e+02\n",
      "3.577e+02\n",
      "3.577e+02\n",
      "3.577e+02\n",
      "3.577e+02\n",
      "3.577e+02\n",
      "3.577e+02\n",
      "3.577e+02\n",
      "3.577e+02\n",
      "3.577e+02\n",
      "3.577e+02\n",
      "3.577e+02\n",
      "3.577e+02\n",
      "3.577e+02\n",
      "3.577e+02\n",
      "3.577e+02\n",
      "3.577e+02\n",
      "3.577e+02\n",
      "3.577e+02\n",
      "3.577e+02\n",
      "3.577e+02\n",
      "3.577e+02\n",
      "3.577e+02\n",
      "3.577e+02\n",
      "3.577e+02\n",
      "3.577e+02\n",
      "3.577e+02\n",
      "3.577e+02\n",
      "3.577e+02\n",
      "3.577e+02\n",
      "3.577e+02\n",
      "3.577e+02\n",
      "3.577e+02\n",
      "3.577e+02\n",
      "3.577e+02\n",
      "3.577e+02\n",
      "3.577e+02\n",
      "3.577e+02\n",
      "3.577e+02\n",
      "3.577e+02\n",
      "3.577e+02\n",
      "3.577e+02\n",
      "3.577e+02\n",
      "3.577e+02\n",
      "3.577e+02\n",
      "3.577e+02\n",
      "3.577e+02\n",
      "3.577e+02\n",
      "3.577e+02\n",
      "3.577e+02\n",
      "3.577e+02\n",
      "3.577e+02\n",
      "3.577e+02\n",
      "3.577e+02\n",
      "3.577e+02\n",
      "3.577e+02\n",
      "3.577e+02\n",
      "3.577e+02\n",
      "3.577e+02\n",
      "3.577e+02\n",
      "3.577e+02\n",
      "3.577e+02\n",
      "3.577e+02\n",
      "3.577e+02\n",
      "3.577e+02\n",
      "3.577e+02\n",
      "3.577e+02\n",
      "3.577e+02\n",
      "3.577e+02\n",
      "3.577e+02\n",
      "3.577e+02\n",
      "3.577e+02\n",
      "3.577e+02\n",
      "3.577e+02\n"
     ]
    }
   ],
   "source": [
    "for i in range(dat_len):\n",
    "    for j in range(2):\n",
    "        for k in range(3):\n",
    "            # 이제 각 정보들을 비교할 데이터를 가져와서 비교해서 바꿔주는 작업을 하자\n",
    "            # 바꾸는 작업은 위에 함수를 포문으로 계속 불러와야해\n",
    "            #print(dat_list_xyz[i][j][k])\n",
    "\n",
    "print(dat_list_xyz[0][0][0])"
   ]
  },
  {
   "cell_type": "markdown",
   "metadata": {},
   "source": [
    "### 그 대표값들(x,y,z)을 (r,phi, theta)값으로 변경시키는 작업을 할거야\n",
    "    공식 필요해"
   ]
  },
  {
   "cell_type": "code",
   "execution_count": null,
   "metadata": {},
   "outputs": [],
   "source": []
  },
  {
   "cell_type": "markdown",
   "metadata": {},
   "source": [
    "### 변경한 값중에서 theta 값이 0인 것들만 남길거야. 그러면 이제 2D 데이터가 되겠지?"
   ]
  },
  {
   "cell_type": "code",
   "execution_count": null,
   "metadata": {},
   "outputs": [],
   "source": []
  },
  {
   "cell_type": "markdown",
   "metadata": {},
   "source": [
    "### 2D 데이터를 이용하여 Sinogram 만들어내자\n",
    "    (R, Phi) += 1"
   ]
  },
  {
   "cell_type": "code",
   "execution_count": null,
   "metadata": {},
   "outputs": [],
   "source": []
  },
  {
   "cell_type": "code",
   "execution_count": null,
   "metadata": {},
   "outputs": [],
   "source": []
  },
  {
   "cell_type": "code",
   "execution_count": null,
   "metadata": {},
   "outputs": [],
   "source": []
  },
  {
   "cell_type": "code",
   "execution_count": null,
   "metadata": {},
   "outputs": [],
   "source": []
  },
  {
   "cell_type": "code",
   "execution_count": null,
   "metadata": {},
   "outputs": [],
   "source": []
  },
  {
   "cell_type": "code",
   "execution_count": null,
   "metadata": {},
   "outputs": [],
   "source": []
  }
 ],
 "metadata": {
  "kernelspec": {
   "display_name": "Python 3",
   "language": "python",
   "name": "python3"
  },
  "language_info": {
   "codemirror_mode": {
    "name": "ipython",
    "version": 3
   },
   "file_extension": ".py",
   "mimetype": "text/x-python",
   "name": "python",
   "nbconvert_exporter": "python",
   "pygments_lexer": "ipython3",
   "version": "3.5.2"
  }
 },
 "nbformat": 4,
 "nbformat_minor": 2
}
