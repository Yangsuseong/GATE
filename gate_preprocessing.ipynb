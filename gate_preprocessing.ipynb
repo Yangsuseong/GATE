{
 "cells": [
  {
   "cell_type": "markdown",
   "metadata": {},
   "source": [
    "# GATE SIMULATION\n",
    "###                              data preprocessing"
   ]
  },
  {
   "cell_type": "code",
   "execution_count": 1,
   "metadata": {},
   "outputs": [],
   "source": [
    "import os, glob, csv, codecs\n",
    "import shutil\n",
    "import re\n",
    "import itertools\n",
    "import math"
   ]
  },
  {
   "cell_type": "markdown",
   "metadata": {},
   "source": [
    "## 파일 골라내기\n",
    "    dat_dir 과 슬라이싱 범위는 상황에 따라 변경해야함"
   ]
  },
  {
   "cell_type": "code",
   "execution_count": 2,
   "metadata": {},
   "outputs": [
    {
     "name": "stdout",
     "output_type": "stream",
     "text": [
      "['/home/yang/Documents/gate_git/testCoincidence.txt']\n",
      "testCoincidence.txt\n"
     ]
    }
   ],
   "source": [
    "#dat_dir = input(\"Insert Directory : \")\n",
    "dat_dir = \"/home/yang/Documents/gate_git\"\n",
    "\n",
    "dat_file_list = glob.glob(dat_dir + '/*.txt')\n",
    "dat_file_list.sort()\n",
    "print(dat_file_list)\n",
    "print(dat_file_list[0][30:])"
   ]
  },
  {
   "cell_type": "markdown",
   "metadata": {},
   "source": [
    "## 파일 읽어들여서 x,y,z 축 값만 남기고 다 버릴거야\n",
    "    9, 10, 11, 32,33,34 번째 정보\n",
    "    인덱스로는 8,9,10  31,32,33\n",
    "        dat_list 리스트에 저장(x1,y1,z1,x2,y2,z2)"
   ]
  },
  {
   "cell_type": "code",
   "execution_count": 3,
   "metadata": {},
   "outputs": [],
   "source": [
    "# 리스트 청크 함수 (리스트, 원하는 길이)\n",
    "# 이거 하고나면 차원이 하나가 더 생겨서 언패킹함수를 사용하여 차원축소를 해야함\n",
    "def chunks(l, n):\n",
    "    n = max(1, n)\n",
    "    return (l[i:i+n] for i in range(0, len(l), n))"
   ]
  },
  {
   "cell_type": "code",
   "execution_count": 4,
   "metadata": {},
   "outputs": [],
   "source": [
    "# 언패킹(차원 축소)을 위한 함수\n",
    "def chain(*iterables):\n",
    "    # chain('ABC', 'DEF') --> ['A', 'B', 'C', 'D', 'E', 'F']\n",
    "    for it in iterables:\n",
    "        for element in it:\n",
    "            yield element\n"
   ]
  },
  {
   "cell_type": "code",
   "execution_count": 5,
   "metadata": {},
   "outputs": [
    {
     "name": "stdout",
     "output_type": "stream",
     "text": [
      "1개의 파일을 변환합니다.\n",
      "1번째 파일\n"
     ]
    }
   ],
   "source": [
    "dat_list_all = []\n",
    "dat_list_pre = []\n",
    "dat_list = []\n",
    "dat_list_xyz = []\n",
    "\n",
    "\n",
    "#print(\"--------------\" + dat_file_list[i]) + \"----------------\")\n",
    "print(str(len(dat_file_list)) + \"개의 파일을 변환합니다.\")\n",
    "for i in range(len(dat_file_list)):\n",
    "    idx = 0\n",
    "    print(str(i+1) + \"번째 파일\")\n",
    "    txt_data = open(dat_file_list[i],'r')\n",
    "    for j in txt_data:\n",
    "        j = \" \".join(j.split())\n",
    "        j = j.split(\" \")\n",
    "        dat_list_all.append(j)\n",
    "        #print(dat_list_all)"
   ]
  },
  {
   "cell_type": "code",
   "execution_count": 6,
   "metadata": {},
   "outputs": [
    {
     "name": "stdout",
     "output_type": "stream",
     "text": [
      "Finish\n"
     ]
    }
   ],
   "source": [
    "        \n",
    "dat_len = len(dat_list_all) - 1\n",
    "    \n",
    "for i in range(len(dat_list_all) -1):\n",
    "    #print(i)\n",
    "    dat_list_pre.append(dat_list_all[i][8])\n",
    "    dat_list_pre.append(dat_list_all[i][9])\n",
    "    dat_list_pre.append(dat_list_all[i][10])\n",
    "    dat_list_pre.append(dat_list_all[i][31])\n",
    "    dat_list_pre.append(dat_list_all[i][32])\n",
    "    dat_list_pre.append(dat_list_all[i][33])\n",
    "        \n",
    "dat_list.append(list(chunks(dat_list_pre, 3)))\n",
    "dat_list = list(itertools.chain(*dat_list))\n",
    "dat_list_xyz.append(list(chunks(dat_list,2)))\n",
    "dat_list_xyz = list(itertools.chain(*dat_list_xyz))\n",
    "    \n",
    "print(\"Finish\")\n",
    "txt_data.close()"
   ]
  },
  {
   "cell_type": "markdown",
   "metadata": {},
   "source": [
    "## 이제 x,y,z 값을 가지고 각 디텍터 번호에 대표 값으로 변경시켜주는 작업을 할거야\n",
    "    \n",
    "    <데이터가 저장된 리스트 정보>\n",
    "    dat_list_xyz[ Coincidence Num, Single(0 or 1), xyz(0 or 1 or 2) ]\n",
    "    \n",
    "        ex) 첫번째 coincidence에서 싱글1의 z값을 보려고 한다.\n",
    "               dat_list_xyz[0][0][2]\n",
    "            \n",
    "                    '-1.603e-03'\n",
    "\n",
    "\n",
    "    필요한 자료 : 각 디텍터의 좌표 및 범위, 각 디텍터의 대표값\n",
    "    54개의 큰 if문(x좌표)을 만들고 그 안에서 모든 경우의 수를 만들자"
   ]
  },
  {
   "cell_type": "markdown",
   "metadata": {},
   "source": [
    "## 평균화 작업을 하기 전에 10의 제곱수(e+01 or e+02)들을 숫자로 바꾸는 작업을 진행해야한다.\n",
    "    ex) -4.389e+02    -->    -43.89 "
   ]
  },
  {
   "cell_type": "code",
   "execution_count": 7,
   "metadata": {},
   "outputs": [
    {
     "name": "stdout",
     "output_type": "stream",
     "text": [
      "-4.771e+01\n",
      "-4.771\n"
     ]
    }
   ],
   "source": [
    "print(dat_list_xyz[0][0][0])\n",
    "print(float(dat_list_xyz[0][0][0][:-4]))"
   ]
  },
  {
   "cell_type": "markdown",
   "metadata": {},
   "source": [
    "### 파이썬에서는 자료형 변경해주면 알아서 변경됨......"
   ]
  },
  {
   "cell_type": "code",
   "execution_count": 8,
   "metadata": {},
   "outputs": [
    {
     "name": "stdout",
     "output_type": "stream",
     "text": [
      "e+01 complete\n",
      "e+02 complete\n",
      "e+01 complete\n",
      "e+02 complete\n",
      "e+02 complete\n",
      "e+01 complete\n",
      "e+02 complete\n",
      "e+01 complete\n",
      "e+01 complete\n",
      "e+02 complete\n",
      "e+01 complete\n",
      "e+01 complete\n",
      "e+02 complete\n",
      "e+02 complete\n",
      "e+01 complete\n",
      "e+02 complete\n",
      "e+02 complete\n",
      "e+02 complete\n",
      "e+02 complete\n",
      "e+02 complete\n",
      "e+01 complete\n",
      "e+02 complete\n",
      "e+02 complete\n",
      "e+01 complete\n",
      "e+02 complete\n",
      "e+01 complete\n",
      "e+01 complete\n",
      "e+02 complete\n",
      "e+02 complete\n",
      "e+01 complete\n",
      "e+02 complete\n",
      "e+01 complete\n",
      "e+01 complete\n",
      "e+02 complete\n",
      "e+02 complete\n",
      "e+02 complete\n",
      "e+02 complete\n",
      "e+02 complete\n",
      "e+01 complete\n",
      "e+01 complete\n",
      "e+02 complete\n",
      "e+02 complete\n",
      "e+02 complete\n",
      "e+02 complete\n",
      "e+01 complete\n",
      "e+02 complete\n",
      "e+02 complete\n",
      "e+02 complete\n",
      "e+02 complete\n",
      "e+02 complete\n",
      "e+01 complete\n",
      "e+02 complete\n",
      "e+02 complete\n",
      "e+01 complete\n",
      "e+02 complete\n",
      "e+02 complete\n",
      "e+01 complete\n",
      "e+02 complete\n",
      "e+02 complete\n",
      "e+01 complete\n",
      "e+02 complete\n",
      "e+02 complete\n",
      "e+01 complete\n",
      "e+02 complete\n",
      "e+02 complete\n",
      "e+02 complete\n",
      "e+02 complete\n",
      "e+02 complete\n",
      "e+01 complete\n",
      "e+02 complete\n",
      "e+02 complete\n",
      "e+02 complete\n",
      "e+02 complete\n",
      "e+02 complete\n",
      "e+01 complete\n",
      "e+02 complete\n",
      "e+01 complete\n",
      "e+02 complete\n",
      "e+02 complete\n",
      "e+02 complete\n",
      "e+02 complete\n",
      "e+02 complete\n",
      "e+01 complete\n",
      "e+02 complete\n",
      "e+02 complete\n",
      "e+02 complete\n",
      "e+02 complete\n",
      "e+02 complete\n",
      "e+02 complete\n",
      "e+01 complete\n",
      "e+02 complete\n",
      "e+02 complete\n",
      "e+02 complete\n",
      "e+02 complete\n",
      "e+02 complete\n",
      "e+02 complete\n",
      "e+02 complete\n",
      "e+01 complete\n",
      "e+01 complete\n",
      "e+02 complete\n",
      "e+02 complete\n",
      "e+02 complete\n",
      "e+02 complete\n",
      "e+02 complete\n",
      "e+02 complete\n",
      "e+02 complete\n",
      "e+02 complete\n",
      "e+01 complete\n",
      "e+02 complete\n",
      "e+02 complete\n",
      "e+02 complete\n",
      "e+00 complete\n",
      "e+02 complete\n",
      "e+00 complete\n",
      "e+02 complete\n",
      "e+01 complete\n",
      "e+02 complete\n",
      "e+02 complete\n",
      "e+01 complete\n",
      "e+01 complete\n",
      "e+01 complete\n",
      "e+02 complete\n",
      "e+01 complete\n",
      "e+01 complete\n",
      "e+02 complete\n",
      "e+02 complete\n",
      "e+01 complete\n",
      "e+02 complete\n",
      "e+01 complete\n",
      "e+01 complete\n",
      "e+02 complete\n",
      "e+01 complete\n",
      "e+02 complete\n",
      "e+02 complete\n",
      "e+00 complete\n",
      "e+02 complete\n",
      "e+02 complete\n",
      "e+01 complete\n",
      "e+02 complete\n",
      "e+02 complete\n",
      "e+01 complete\n",
      "e+02 complete\n",
      "e+01 complete\n",
      "e+01 complete\n",
      "e+02 complete\n",
      "e+02 complete\n",
      "e+01 complete\n",
      "e+02 complete\n",
      "e+01 complete\n",
      "e+02 complete\n",
      "e+02 complete\n",
      "e+02 complete\n",
      "e+01 complete\n",
      "e+02 complete\n",
      "e+02 complete\n",
      "e+02 complete\n",
      "e+02 complete\n",
      "e+02 complete\n",
      "e+01 complete\n",
      "e+02 complete\n",
      "e+02 complete\n",
      "e+01 complete\n",
      "e+02 complete\n",
      "e+02 complete\n",
      "e+01 complete\n",
      "e+02 complete\n",
      "e+02 complete\n",
      "e+02 complete\n",
      "e+01 complete\n",
      "e+02 complete\n",
      "e+01 complete\n",
      "e+02 complete\n",
      "e+02 complete\n",
      "e+01 complete\n",
      "e+02 complete\n",
      "e+02 complete\n",
      "e+02 complete\n",
      "e+02 complete\n",
      "e+02 complete\n",
      "e+01 complete\n",
      "e+02 complete\n",
      "e+02 complete\n",
      "e+02 complete\n",
      "e+02 complete\n",
      "e+02 complete\n",
      "e+02 complete\n",
      "e+02 complete\n",
      "e+02 complete\n",
      "e+02 complete\n",
      "e+02 complete\n",
      "e+02 complete\n",
      "e+01 complete\n",
      "e+02 complete\n",
      "e+02 complete\n",
      "e+02 complete\n",
      "e+02 complete\n",
      "e+01 complete\n",
      "e+01 complete\n",
      "e+02 complete\n",
      "e+02 complete\n",
      "e+02 complete\n",
      "e+02 complete\n",
      "e+02 complete\n",
      "e+00 complete\n",
      "e+02 complete\n",
      "e+02 complete\n",
      "e+01 complete\n",
      "e+02 complete\n",
      "e+02 complete\n",
      "e+02 complete\n",
      "e+02 complete\n",
      "e+02 complete\n",
      "e+02 complete\n",
      "e+02 complete\n",
      "e+02 complete\n",
      "e+01 complete\n",
      "e+02 complete\n",
      "e+02 complete\n",
      "e+02 complete\n",
      "e+02 complete\n",
      "e+01 complete\n",
      "e+01 complete\n",
      "e+02 complete\n",
      "e+02 complete\n",
      "e+00 complete\n",
      "e+02 complete\n",
      "e+02 complete\n",
      "e+02 complete\n",
      "e+02 complete\n",
      "e+02 complete\n",
      "e+02 complete\n",
      "e+02 complete\n",
      "e+02 complete\n",
      "e+01 complete\n",
      "e+02 complete\n",
      "e+01 complete\n",
      "e+01 complete\n",
      "e+02 complete\n",
      "e+01 complete\n",
      "e+02 complete\n",
      "e+00 complete\n",
      "e+02 complete\n",
      "e+02 complete\n",
      "e+00 complete\n",
      "e+02 complete\n",
      "e+01 complete\n",
      "e+02 complete\n",
      "e+02 complete\n",
      "e+02 complete\n",
      "e+02 complete\n",
      "e+02 complete\n",
      "e+01 complete\n",
      "e+02 complete\n",
      "e+02 complete\n",
      "e+01 complete\n",
      "e+02 complete\n",
      "e+02 complete\n",
      "e+01 complete\n",
      "e+02 complete\n",
      "e+02 complete\n",
      "e+02 complete\n",
      "e+02 complete\n",
      "e+02 complete\n",
      "e+02 complete\n",
      "e+02 complete\n",
      "e+02 complete\n",
      "e+02 complete\n",
      "e+02 complete\n",
      "e+02 complete\n",
      "e+01 complete\n",
      "e+01 complete\n",
      "e+02 complete\n",
      "e+02 complete\n",
      "e+02 complete\n",
      "e+02 complete\n",
      "e+02 complete\n",
      "e+02 complete\n",
      "e+02 complete\n",
      "e+02 complete\n",
      "e+02 complete\n",
      "e+02 complete\n",
      "e+02 complete\n",
      "e+02 complete\n",
      "e+02 complete\n",
      "e+02 complete\n",
      "e+02 complete\n",
      "e+02 complete\n",
      "e+01 complete\n",
      "e+01 complete\n",
      "e+02 complete\n",
      "e+01 complete\n",
      "e+02 complete\n",
      "e+01 complete\n",
      "e+01 complete\n",
      "e+02 complete\n",
      "e+02 complete\n",
      "e+02 complete\n",
      "e+02 complete\n",
      "e+02 complete\n",
      "e+02 complete\n",
      "e+02 complete\n",
      "e+02 complete\n",
      "e+01 complete\n",
      "e+02 complete\n",
      "e+02 complete\n",
      "e+02 complete\n",
      "e+02 complete\n",
      "e+02 complete\n",
      "e+01 complete\n",
      "e+02 complete\n",
      "e+02 complete\n",
      "e+01 complete\n",
      "e+02 complete\n",
      "e+01 complete\n",
      "e+01 complete\n",
      "e+02 complete\n",
      "e+00 complete\n",
      "e+01 complete\n",
      "e+02 complete\n",
      "e+02 complete\n",
      "e+01 complete\n",
      "e+02 complete\n",
      "e+02 complete\n",
      "e+01 complete\n",
      "e+02 complete\n",
      "e+02 complete\n",
      "e+02 complete\n",
      "e+02 complete\n",
      "e+02 complete\n",
      "e+02 complete\n",
      "e+01 complete\n",
      "e+02 complete\n",
      "e+01 complete\n",
      "e+01 complete\n",
      "e+02 complete\n",
      "e+02 complete\n",
      "e+02 complete\n",
      "e+02 complete\n",
      "e+02 complete\n",
      "e+02 complete\n",
      "e+01 complete\n",
      "e+02 complete\n",
      "e+02 complete\n",
      "e+02 complete\n",
      "e+02 complete\n",
      "e+01 complete\n",
      "e+02 complete\n",
      "e+01 complete\n",
      "e+02 complete\n",
      "e+02 complete\n",
      "e+01 complete\n",
      "e+02 complete\n",
      "e+01 complete\n",
      "e+01 complete\n",
      "e+02 complete\n",
      "e+01 complete\n",
      "e+01 complete\n",
      "e+02 complete\n",
      "e+01 complete\n",
      "e+01 complete\n",
      "e+02 complete\n",
      "e+02 complete\n",
      "e+01 complete\n",
      "e+02 complete\n",
      "e+02 complete\n",
      "e+01 complete\n",
      "e+02 complete\n",
      "e+02 complete\n",
      "e+01 complete\n",
      "e+02 complete\n",
      "e+02 complete\n",
      "e+02 complete\n",
      "e+02 complete\n",
      "e+02 complete\n",
      "e+02 complete\n",
      "e+02 complete\n",
      "e+02 complete\n",
      "e+01 complete\n",
      "e+02 complete\n",
      "e+02 complete\n",
      "e+02 complete\n",
      "e+02 complete\n",
      "e+02 complete\n",
      "e+01 complete\n",
      "e+02 complete\n",
      "e+02 complete\n",
      "e+01 complete\n",
      "e+02 complete\n",
      "e+02 complete\n",
      "e+02 complete\n",
      "e+02 complete\n",
      "e+02 complete\n",
      "e+02 complete\n",
      "e+02 complete\n",
      "e+02 complete\n",
      "e+01 complete\n",
      "e+01 complete\n",
      "e+02 complete\n",
      "e+01 complete\n",
      "e+02 complete\n",
      "e+02 complete\n",
      "e+02 complete\n"
     ]
    }
   ],
   "source": [
    "#print(dat_list_xyz[0][0][0][:-4])\n",
    "for i in range(dat_len):\n",
    "    for j in range(2):\n",
    "        for k in range(3):\n",
    "            if(str(dat_list_xyz[i][j][k][-4:]) == \"e-06\"):\n",
    "                dat_list_xyz[i][j][k] = str(float(dat_list_xyz[i][j][k][:-4]) * (10**-6))\n",
    "                print(\"e-06 complete\")\n",
    "            if(str(dat_list_xyz[i][j][k][-4:]) == \"e-05\"):\n",
    "                dat_list_xyz[i][j][k] = str(float(dat_list_xyz[i][j][k][:-4]) * (10**-5))\n",
    "                print(\"e-05 complete\")\n",
    "            if(str(dat_list_xyz[i][j][k][-4:]) == \"e-04\"):\n",
    "                dat_list_xyz[i][j][k] = str(float(dat_list_xyz[i][j][k][:-4]) * (10**-4))\n",
    "                print(\"e-04 complete\")\n",
    "            if(str(dat_list_xyz[i][j][k][-4:]) == \"e-03\"):\n",
    "                dat_list_xyz[i][j][k] = str(float(dat_list_xyz[i][j][k][:-4]) * (10**-3))\n",
    "                print(\"e-03 complete\")\n",
    "            if(str(dat_list_xyz[i][j][k][-4:]) == \"e-02\"):\n",
    "                dat_list_xyz[i][j][k] = str(float(dat_list_xyz[i][j][k][:-4]) * (10**-2))\n",
    "                print(\"e-02 complete\")\n",
    "            if(str(dat_list_xyz[i][j][k][-4:]) == \"e-01\"):\n",
    "                dat_list_xyz[i][j][k] = str(float(dat_list_xyz[i][j][k][:-4]) * (10**-1))\n",
    "                print(\"e-01 complete\")\n",
    "            if(str(dat_list_xyz[i][j][k][-4:]) == \"e+00\"):\n",
    "                dat_list_xyz[i][j][k] = str(float(dat_list_xyz[i][j][k][:-4]))\n",
    "                print(\"e+00 complete\")\n",
    "            if(str(dat_list_xyz[i][j][k][-4:]) == \"e+01\"):\n",
    "                dat_list_xyz[i][j][k] = str(float(dat_list_xyz[i][j][k][:-4]) * (10))\n",
    "                print(\"e+01 complete\")\n",
    "            if(str(dat_list_xyz[i][j][k][-4:]) == \"e+02\"):\n",
    "                dat_list_xyz[i][j][k] = str(float(dat_list_xyz[i][j][k][:-4]) * (10**2))\n",
    "                print(\"e+02 complete\")\n",
    "            if(str(dat_list_xyz[i][j][k][-4:]) == \"e+03\"):\n",
    "                dat_list_xyz[i][j][k] = str(float(dat_list_xyz[i][j][k][:-4]) * (10**3))\n",
    "                print(\"e+03 complete\")\n",
    "                "
   ]
  },
  {
   "cell_type": "markdown",
   "metadata": {},
   "source": [
    "## 제대로 바뀌었는지 확인 한번 하고"
   ]
  },
  {
   "cell_type": "code",
   "execution_count": 9,
   "metadata": {},
   "outputs": [],
   "source": [
    "#dat_list_xyz"
   ]
  },
  {
   "cell_type": "code",
   "execution_count": 10,
   "metadata": {},
   "outputs": [],
   "source": [
    "# x,y,z 값 확인용 함수\n",
    "def print_xyz(x, y, z):\n",
    "    print(\"x : \" + x + \",    y : \" + y +  \",    z : \" + z)"
   ]
  },
  {
   "cell_type": "code",
   "execution_count": 11,
   "metadata": {},
   "outputs": [
    {
     "name": "stdout",
     "output_type": "stream",
     "text": [
      "x : -47.71,    y : -438.90000000000003,    z : 50.5\n"
     ]
    }
   ],
   "source": [
    "print_xyz(dat_list_xyz[0][0][0], dat_list_xyz[0][0][1], dat_list_xyz[0][0][2])"
   ]
  },
  {
   "cell_type": "markdown",
   "metadata": {},
   "source": [
    "---"
   ]
  },
  {
   "cell_type": "markdown",
   "metadata": {},
   "source": [
    "# 디텍터의 각 좌표들을 구하자"
   ]
  },
  {
   "cell_type": "markdown",
   "metadata": {},
   "source": [
    "# Detector 번호(Crystal)에 맞는 중심(대표)값을 배열로 만들자\n",
    "    지금은 3x3 디텍터 모델에 맞는 함수를 만들었다.\n",
    "    크리스탈의 갯수를 받아서 배열을 생성하는 함수도 생각해보자\n",
    "    \n",
    "    <함수의 인자들>\n",
    "        find_xyz_center(원점으로부터의 거리, 크리스탈의 x축 길이, 크리스탈의 y축 길이, 크리스탈의 z축 길이)"
   ]
  },
  {
   "cell_type": "code",
   "execution_count": 12,
   "metadata": {},
   "outputs": [],
   "source": [
    "# 각 크리스탈의 중심값을 얻어내기위한 함수 (3x3)\n",
    "# find_xyz_center(원점으로부터의 거리, 크리스탈의 x축 길이, 크리스탈의 y축 길이, 크리스탈의 z축 길이)\n",
    "def YSS_find_xyz_center(r, x_len, y_len, z_len):\n",
    "    crystal_1 = [r + (x_len/2), y_len, -z_len]\n",
    "    crystal_2 = [r + (x_len/2), 0, -z_len]\n",
    "    crystal_3 = [r + (x_len/2), -y_len, -z_len]\n",
    "    crystal_4 = [r + (x_len/2), y_len, 0]\n",
    "    crystal_5 = [r + (x_len/2), 0, 0]\n",
    "    crystal_6 = [r + (x_len/2), -y_len, 0]\n",
    "    crystal_7 = [r + (x_len/2), y_len, z_len]\n",
    "    crystal_8 = [r + (x_len/2), 0, z_len]\n",
    "    crystal_9 = [r + (x_len/2), -y_len, z_len]\n",
    "    detector_1 = [crystal_1, crystal_2, crystal_3, crystal_4, crystal_5, crystal_6, crystal_7, crystal_8, crystal_9]\n",
    "    detector_2 = []\n",
    "    detector_3 = []\n",
    "    detector_4 = []\n",
    "    detector_5 = []\n",
    "    detector_6 = []\n",
    "    \n",
    "    for i in range(len(detector_1)):\n",
    "        detector_2.append([(detector_1[i][0]*math.cos(60*math.pi/180)) - (detector_1[i][1]*math.sin(60*math.pi/180)),\\\n",
    "                           (detector_1[i][0]*math.sin(60*math.pi/180)) + (detector_1[i][1]*math.cos(60*math.pi/180)),\\\n",
    "                            detector_1[i][2]])\n",
    "        detector_3.append([(detector_1[i][0]*math.cos(120*math.pi/180)) - (detector_1[i][1]*math.sin(120*math.pi/180)),\\\n",
    "                           (detector_1[i][0]*math.sin(120*math.pi/180)) + (detector_1[i][1]*math.cos(120*math.pi/180)),\\\n",
    "                            detector_1[i][2]])\n",
    "        detector_4.append([(detector_1[i][0]*math.cos(180*math.pi/180)) - (detector_1[i][1]*math.sin(180*math.pi/180)),\\\n",
    "                           (detector_1[i][0]*math.sin(180*math.pi/180)) + (detector_1[i][1]*math.cos(180*math.pi/180)),\\\n",
    "                            detector_1[i][2]])\n",
    "        detector_5.append([(detector_1[i][0]*math.cos(240*math.pi/180)) - (detector_1[i][1]*math.sin(240*math.pi/180)),\\\n",
    "                           (detector_1[i][0]*math.sin(240*math.pi/180)) + (detector_1[i][1]*math.cos(240*math.pi/180)),\\\n",
    "                            detector_1[i][2]])\n",
    "        detector_6.append([(detector_1[i][0]*math.cos(300*math.pi/180)) - (detector_1[i][1]*math.sin(300*math.pi/180)),\\\n",
    "                           (detector_1[i][0]*math.sin(300*math.pi/180)) + (detector_1[i][1]*math.cos(300*math.pi/180)),\\\n",
    "                            detector_1[i][2]])\n",
    "        \n",
    "        \n",
    "    total_crystal_location = [detector_1, detector_2, detector_3, detector_4, detector_5, detector_6]\n",
    "    #print(total_crystal_location)\n",
    "    \n",
    "    return total_crystal_location"
   ]
  },
  {
   "cell_type": "code",
   "execution_count": 13,
   "metadata": {},
   "outputs": [],
   "source": [
    "# 함수 돌리기 (r길이, x_len, y_len, z_len)\n",
    "crystal_location = YSS_find_xyz_center(44, 3, 11, 13) "
   ]
  },
  {
   "cell_type": "markdown",
   "metadata": {},
   "source": [
    "# 이제 Detector 번호(Crystal)의 중심값을 받아 각 모서리의 좌표를 얻어오는 함수를 만들자\n",
    "    이 정보를 이용하여 x,y,z 축의 범위를 지정해줄것이다.\n",
    "    \n",
    "    crystal_location[0][0][0]  -->  1번 디텍터의 1번 디텍터의 x좌표"
   ]
  },
  {
   "cell_type": "code",
   "execution_count": 14,
   "metadata": {},
   "outputs": [],
   "source": [
    "# 각 디텍터의 중심값을 받아와 크리스탈의 모서리의 좌표를 구하는 함수\n",
    "def find_cristal_edge(x, y, z, x_len, y_len, z_len):\n",
    "    edge_a1 = [x-(x_len/2), y+(y_len/2), z-(z_len/2)]\n",
    "    edge_b1 = [x-(x_len/2), y+(y_len/2), z+(z_len/2)]\n",
    "    edge_c1 = [x-(x_len/2), y-(y_len/2), z-(z_len/2)]\n",
    "    edge_d1 = [x-(x_len/2), y-(y_len/2), z+(z_len/2)]\n",
    "    edge_a2 = [x+(x_len/2), y+(y_len/2), z-(z_len/2)]\n",
    "    edge_b2 = [x+(x_len/2), y+(y_len/2), z+(z_len/2)]\n",
    "    edge_c2 = [x+(x_len/2), y-(y_len/2), z-(z_len/2)]\n",
    "    edge_d2 = [x+(x_len/2), y-(y_len/2), z+(z_len/2)]\n",
    "    \n",
    "    \n",
    "    crystal_edge = [edge_a1, edge_b1, edge_c1, edge_d1, edge_a2, edge_b2, edge_c2, edge_d2]\n",
    "    #print(crystal_edge)\n",
    "    return crystal_edge"
   ]
  },
  {
   "cell_type": "markdown",
   "metadata": {},
   "source": [
    "## 엣지좌표구해서 회전까지 한번에 하려했는데... 순서때문에 좌표구하는 함수랑 회전변환 함수랑 따로 구현하자"
   ]
  },
  {
   "cell_type": "code",
   "execution_count": 15,
   "metadata": {},
   "outputs": [],
   "source": [
    "def rotate_edge(x, y, z, angle):\n",
    "    rotate_crystal_edge_1.append([(x*math.cos(angle*math.pi/180)) - (y*math.sin(angle*math.pi/180)),\\\n",
    "                               (x*math.sin(angle*math.pi/180)) + (y*math.cos(angle*math.pi/180)),\\\n",
    "                                z])"
   ]
  },
  {
   "cell_type": "markdown",
   "metadata": {},
   "source": [
    "# 이제 실행하자\n",
    "    크리스탈 센터값 계산 함수(1번 디텍터만 계산 후 회전변환)"
   ]
  },
  {
   "cell_type": "code",
   "execution_count": 16,
   "metadata": {},
   "outputs": [
    {
     "name": "stdout",
     "output_type": "stream",
     "text": [
      "[[[44.0, 16.5, -19.5], [44.0, 16.5, -6.5], [44.0, 5.5, -19.5], [44.0, 5.5, -6.5], [47.0, 16.5, -19.5], [47.0, 16.5, -6.5], [47.0, 5.5, -19.5], [47.0, 5.5, -6.5]], [[44.0, 5.5, -19.5], [44.0, 5.5, -6.5], [44.0, -5.5, -19.5], [44.0, -5.5, -6.5], [47.0, 5.5, -19.5], [47.0, 5.5, -6.5], [47.0, -5.5, -19.5], [47.0, -5.5, -6.5]], [[44.0, -5.5, -19.5], [44.0, -5.5, -6.5], [44.0, -16.5, -19.5], [44.0, -16.5, -6.5], [47.0, -5.5, -19.5], [47.0, -5.5, -6.5], [47.0, -16.5, -19.5], [47.0, -16.5, -6.5]], [[44.0, 16.5, -6.5], [44.0, 16.5, 6.5], [44.0, 5.5, -6.5], [44.0, 5.5, 6.5], [47.0, 16.5, -6.5], [47.0, 16.5, 6.5], [47.0, 5.5, -6.5], [47.0, 5.5, 6.5]], [[44.0, 5.5, -6.5], [44.0, 5.5, 6.5], [44.0, -5.5, -6.5], [44.0, -5.5, 6.5], [47.0, 5.5, -6.5], [47.0, 5.5, 6.5], [47.0, -5.5, -6.5], [47.0, -5.5, 6.5]], [[44.0, -5.5, -6.5], [44.0, -5.5, 6.5], [44.0, -16.5, -6.5], [44.0, -16.5, 6.5], [47.0, -5.5, -6.5], [47.0, -5.5, 6.5], [47.0, -16.5, -6.5], [47.0, -16.5, 6.5]], [[44.0, 16.5, 6.5], [44.0, 16.5, 19.5], [44.0, 5.5, 6.5], [44.0, 5.5, 19.5], [47.0, 16.5, 6.5], [47.0, 16.5, 19.5], [47.0, 5.5, 6.5], [47.0, 5.5, 19.5]], [[44.0, 5.5, 6.5], [44.0, 5.5, 19.5], [44.0, -5.5, 6.5], [44.0, -5.5, 19.5], [47.0, 5.5, 6.5], [47.0, 5.5, 19.5], [47.0, -5.5, 6.5], [47.0, -5.5, 19.5]], [[44.0, -5.5, 6.5], [44.0, -5.5, 19.5], [44.0, -16.5, 6.5], [44.0, -16.5, 19.5], [47.0, -5.5, 6.5], [47.0, -5.5, 19.5], [47.0, -16.5, 6.5], [47.0, -16.5, 19.5]]]\n"
     ]
    }
   ],
   "source": [
    "origin_crystal_edge = []\n",
    "for i in range(1):\n",
    "    for j in range(len(crystal_location[i])):\n",
    "        origin_crystal_edge.append(find_cristal_edge(crystal_location[i][j][0],\\\n",
    "                          crystal_location[i][j][1],\\\n",
    "                          crystal_location[i][j][2],\\\n",
    "                          3, 11, 13))  \n",
    "    \n",
    "print(origin_crystal_edge)"
   ]
  },
  {
   "cell_type": "markdown",
   "metadata": {},
   "source": [
    "    각 모서리값 계산 함수"
   ]
  },
  {
   "cell_type": "code",
   "execution_count": 17,
   "metadata": {},
   "outputs": [],
   "source": [
    "rotate_crystal_edge = []\n",
    "rotate_crystal_edge_1 = []\n",
    "\n",
    "\n",
    "for i in range(len(origin_crystal_edge)):\n",
    "    for j in range(len(origin_crystal_edge[i])):\n",
    "        rotate_edge(origin_crystal_edge[i][j][0],\\\n",
    "                    origin_crystal_edge[i][j][1],\\\n",
    "                    origin_crystal_edge[i][j][2],\\\n",
    "                    0)\n",
    "    rotate_crystal_edge.append(rotate_crystal_edge_1)\n",
    "    rotate_crystal_edge_1 = []\n",
    "\n",
    "for i in range(len(origin_crystal_edge)):\n",
    "    for j in range(len(origin_crystal_edge[i])):\n",
    "        rotate_edge(origin_crystal_edge[i][j][0],\\\n",
    "                    origin_crystal_edge[i][j][1],\\\n",
    "                    origin_crystal_edge[i][j][2],\\\n",
    "                    60)\n",
    "    rotate_crystal_edge.append(rotate_crystal_edge_1)\n",
    "    rotate_crystal_edge_1 = []\n",
    "        \n",
    "for i in range(len(origin_crystal_edge)):\n",
    "    for j in range(len(origin_crystal_edge[i])):\n",
    "        rotate_edge(origin_crystal_edge[i][j][0],\\\n",
    "                    origin_crystal_edge[i][j][1],\\\n",
    "                    origin_crystal_edge[i][j][2],\\\n",
    "                    120)\n",
    "    rotate_crystal_edge.append(rotate_crystal_edge_1)\n",
    "    rotate_crystal_edge_1 = []\n",
    "        \n",
    "for i in range(len(origin_crystal_edge)):\n",
    "    for j in range(len(origin_crystal_edge[i])):\n",
    "        rotate_edge(origin_crystal_edge[i][j][0],\\\n",
    "                    origin_crystal_edge[i][j][1],\\\n",
    "                    origin_crystal_edge[i][j][2],\\\n",
    "                    180)\n",
    "    rotate_crystal_edge.append(rotate_crystal_edge_1)\n",
    "    rotate_crystal_edge_1 = []\n",
    "        \n",
    "for i in range(len(origin_crystal_edge)):\n",
    "    for j in range(len(origin_crystal_edge[i])):\n",
    "        rotate_edge(origin_crystal_edge[i][j][0],\\\n",
    "                    origin_crystal_edge[i][j][1],\\\n",
    "                    origin_crystal_edge[i][j][2],\\\n",
    "                    240)\n",
    "    rotate_crystal_edge.append(rotate_crystal_edge_1)\n",
    "    rotate_crystal_edge_1 = []\n",
    "        \n",
    "for i in range(len(origin_crystal_edge)):\n",
    "    for j in range(len(origin_crystal_edge[i])):\n",
    "        rotate_edge(origin_crystal_edge[i][j][0],\\\n",
    "                    origin_crystal_edge[i][j][1],\\\n",
    "                    origin_crystal_edge[i][j][2],\\\n",
    "                    300)\n",
    "    rotate_crystal_edge.append(rotate_crystal_edge_1)\n",
    "    rotate_crystal_edge_1 = []"
   ]
  },
  {
   "cell_type": "markdown",
   "metadata": {},
   "source": [
    "crystal_location[디텍터 번호][크리스탈 번호][xyz 인덱스]\n",
    "\n",
    "\n",
    "rotate_crystal_edge[ 크리스탈 번호 ][ 모서리번호(a1,b1,c1,d1,a2,b2,c2,d2) ][ xyz 인덱스 ]"
   ]
  },
  {
   "cell_type": "code",
   "execution_count": 18,
   "metadata": {},
   "outputs": [
    {
     "data": {
      "text/plain": [
       "[[44.0, 5.5, -6.5],\n",
       " [44.0, 5.5, 6.5],\n",
       " [44.0, -5.5, -6.5],\n",
       " [44.0, -5.5, 6.5],\n",
       " [47.0, 5.5, -6.5],\n",
       " [47.0, 5.5, 6.5],\n",
       " [47.0, -5.5, -6.5],\n",
       " [47.0, -5.5, 6.5]]"
      ]
     },
     "execution_count": 18,
     "metadata": {},
     "output_type": "execute_result"
    }
   ],
   "source": [
    "rotate_crystal_edge[4]"
   ]
  },
  {
   "cell_type": "code",
   "execution_count": 23,
   "metadata": {},
   "outputs": [
    {
     "name": "stdout",
     "output_type": "stream",
     "text": [
      "[[45.5, 11, -13], [45.5, 0, -13], [45.5, -11, -13], [45.5, 11, 0], [45.5, 0, 0], [45.5, -11, 0], [45.5, 11, 13], [45.5, 0, 13], [45.5, -11, 13]]\n",
      "\n",
      "\n",
      "[[[44.0, 16.5, -19.5], [44.0, 16.5, -6.5], [44.0, 5.5, -19.5], [44.0, 5.5, -6.5], [47.0, 16.5, -19.5], [47.0, 16.5, -6.5], [47.0, 5.5, -19.5], [47.0, 5.5, -6.5]], [[44.0, 5.5, -19.5], [44.0, 5.5, -6.5], [44.0, -5.5, -19.5], [44.0, -5.5, -6.5], [47.0, 5.5, -19.5], [47.0, 5.5, -6.5], [47.0, -5.5, -19.5], [47.0, -5.5, -6.5]], [[44.0, -5.5, -19.5], [44.0, -5.5, -6.5], [44.0, -16.5, -19.5], [44.0, -16.5, -6.5], [47.0, -5.5, -19.5], [47.0, -5.5, -6.5], [47.0, -16.5, -19.5], [47.0, -16.5, -6.5]], [[44.0, 16.5, -6.5], [44.0, 16.5, 6.5], [44.0, 5.5, -6.5], [44.0, 5.5, 6.5], [47.0, 16.5, -6.5], [47.0, 16.5, 6.5], [47.0, 5.5, -6.5], [47.0, 5.5, 6.5]], [[44.0, 5.5, -6.5], [44.0, 5.5, 6.5], [44.0, -5.5, -6.5], [44.0, -5.5, 6.5], [47.0, 5.5, -6.5], [47.0, 5.5, 6.5], [47.0, -5.5, -6.5], [47.0, -5.5, 6.5]], [[44.0, -5.5, -6.5], [44.0, -5.5, 6.5], [44.0, -16.5, -6.5], [44.0, -16.5, 6.5], [47.0, -5.5, -6.5], [47.0, -5.5, 6.5], [47.0, -16.5, -6.5], [47.0, -16.5, 6.5]], [[44.0, 16.5, 6.5], [44.0, 16.5, 19.5], [44.0, 5.5, 6.5], [44.0, 5.5, 19.5], [47.0, 16.5, 6.5], [47.0, 16.5, 19.5], [47.0, 5.5, 6.5], [47.0, 5.5, 19.5]], [[44.0, 5.5, 6.5], [44.0, 5.5, 19.5], [44.0, -5.5, 6.5], [44.0, -5.5, 19.5], [47.0, 5.5, 6.5], [47.0, 5.5, 19.5], [47.0, -5.5, 6.5], [47.0, -5.5, 19.5]], [[44.0, -5.5, 6.5], [44.0, -5.5, 19.5], [44.0, -16.5, 6.5], [44.0, -16.5, 19.5], [47.0, -5.5, 6.5], [47.0, -5.5, 19.5], [47.0, -16.5, 6.5], [47.0, -16.5, 19.5]]]\n",
      "\n",
      "\n",
      "[[7.710580837556767, 46.3551177665153, -19.5], [7.710580837556767, 46.3551177665153, -6.5], [17.236860279185592, 40.8551177665153, -19.5], [17.236860279185592, 40.8551177665153, -6.5], [9.210580837556767, 48.953193977868615, -19.5], [9.210580837556767, 48.953193977868615, -6.5], [18.736860279185592, 43.453193977868615, -19.5], [18.736860279185592, 43.453193977868615, -6.5]]\n"
     ]
    }
   ],
   "source": [
    "print(crystal_location[0])\n",
    "print(\"\\n\")\n",
    "print(origin_crystal_edge)\n",
    "print(\"\\n\")\n",
    "print(rotate_crystal_edge[9])"
   ]
  },
  {
   "cell_type": "markdown",
   "metadata": {},
   "source": [
    "---"
   ]
  },
  {
   "cell_type": "markdown",
   "metadata": {},
   "source": [
    "## 이제 대표값으로 바꾸자\n",
    "--- \n",
    "2019.01.28\n",
    "여기부터 생각해보자."
   ]
  },
  {
   "cell_type": "code",
   "execution_count": 20,
   "metadata": {},
   "outputs": [
    {
     "ename": "SyntaxError",
     "evalue": "invalid syntax (<ipython-input-20-8a8963397569>, line 7)",
     "output_type": "error",
     "traceback": [
      "\u001b[0;36m  File \u001b[0;32m\"<ipython-input-20-8a8963397569>\"\u001b[0;36m, line \u001b[0;32m7\u001b[0m\n\u001b[0;31m    if(y >= or y < ):\u001b[0m\n\u001b[0m             ^\u001b[0m\n\u001b[0;31mSyntaxError\u001b[0m\u001b[0;31m:\u001b[0m invalid syntax\n"
     ]
    }
   ],
   "source": [
    "# 모든 좌표값을 평균값으로 변환하는 함수\n",
    "def normalization(x, y, z):\n",
    "    x = float(x)\n",
    "    y = float(y)\n",
    "    z = float(z)\n",
    "    if(x>=rotate_crystal_edge[0][0][0] or x<rotate_crystal_edge[0][4][0]):\n",
    "        if(y >= or y < ):\n",
    "            if(z >= or z < )\n",
    "            if(z >= or z < )\n",
    "            if(z >= or z < )\n",
    "        if(y >= or y < ):\n",
    "            if(z >= or z < )\n",
    "            if(z >= or z < )\n",
    "            if(z >= or z < )\n",
    "        if(y >= or y < ):\n",
    "            if(z >= or z < )\n",
    "            if(z >= or z < )\n",
    "            if(z >= or z < )"
   ]
  },
  {
   "cell_type": "code",
   "execution_count": null,
   "metadata": {},
   "outputs": [],
   "source": [
    "\"\"\"\n",
    "for i in range(dat_len):\n",
    "    for j in range(2):\n",
    "        normalization(dat_list_xyz[i][j][0], dat_list_xyz[i][j][1], dat_list_xyz[i][j][2])\n",
    "        # 이제 각 정보들을 비교할 데이터를 가져와서 비교해서 바꿔주는 작업을 하자\n",
    "        # 바꾸는 작업은 위에 함수를 포문으로 계속 불러와야해\n",
    "        #print(dat_list_xyz[i][j][k])\n",
    "\"\"\"\n"
   ]
  },
  {
   "cell_type": "markdown",
   "metadata": {},
   "source": [
    "---\n",
    "여기부터는 용기형이 짜올꺼야"
   ]
  },
  {
   "cell_type": "markdown",
   "metadata": {},
   "source": [
    "---"
   ]
  },
  {
   "cell_type": "markdown",
   "metadata": {},
   "source": [
    "## 그 대표값들(x,y,z)을 (r,phi, theta)값으로 변경시키는 작업을 할거야\n",
    "    1. 피타고라스 공식으로 빗변 구하기\n",
    "    2. 삼각함수를 이용해 phi theta 구하기"
   ]
  },
  {
   "cell_type": "code",
   "execution_count": null,
   "metadata": {},
   "outputs": [],
   "source": [
    "def angle_cal(height, bottom):\n",
    "    height = float(height)\n",
    "    bottom = float(bottom)\n",
    "    l = math.sqrt((height ** 2) + (bottom ** 2))\n",
    "    angle = (math.acos(height/l)) * (180/math.pi)\n",
    "    #print(angle)\n",
    "    return angle\n"
   ]
  },
  {
   "cell_type": "code",
   "execution_count": null,
   "metadata": {},
   "outputs": [],
   "source": [
    "phi = angle_cal(45.5, 11)\n",
    "theta = angle_cal(45.5, 13)\n",
    "print(\"Phi : \" + str(phi) + \",   Theta : \" + str(theta))"
   ]
  },
  {
   "cell_type": "markdown",
   "metadata": {},
   "source": [
    "## 변경한 값중에서 theta 값이 0인 것들만 남길거야. 그러면 이제 2D 데이터가 되겠지?"
   ]
  },
  {
   "cell_type": "code",
   "execution_count": null,
   "metadata": {},
   "outputs": [],
   "source": []
  },
  {
   "cell_type": "markdown",
   "metadata": {},
   "source": [
    "## 2D 데이터를 이용하여 Sinogram 만들어내자\n",
    "    (R, Phi) += 1"
   ]
  },
  {
   "cell_type": "code",
   "execution_count": null,
   "metadata": {},
   "outputs": [],
   "source": []
  },
  {
   "cell_type": "code",
   "execution_count": null,
   "metadata": {},
   "outputs": [],
   "source": []
  }
 ],
 "metadata": {
  "kernelspec": {
   "display_name": "Python 3",
   "language": "python",
   "name": "python3"
  },
  "language_info": {
   "codemirror_mode": {
    "name": "ipython",
    "version": 3
   },
   "file_extension": ".py",
   "mimetype": "text/x-python",
   "name": "python",
   "nbconvert_exporter": "python",
   "pygments_lexer": "ipython3",
   "version": "3.5.2"
  }
 },
 "nbformat": 4,
 "nbformat_minor": 2
}
